{
 "cells": [
  {
   "cell_type": "markdown",
   "id": "893dce3d",
   "metadata": {},
   "source": [
    "Currently, this notebook must be run in a NeMo container.\n",
    "An example command to launch the container:\n",
    "```bash\n",
    "docker run --gpus all -it --rm -v <your_nemo_dir>:/NeMo --shm-size=8g -p 8888:8888 -p 6006:6006 --ulimit memlock=-1 --ulimit stack=67108864 <your_nemo_container>\n",
    "```"
   ]
  },
  {
   "cell_type": "code",
   "execution_count": null,
   "id": "0c6d6863",
   "metadata": {
    "collapsed": false,
    "jupyter": {
     "outputs_hidden": false
    },
    "tags": []
   },
   "outputs": [],
   "source": [
    "# Update megatron version to the newest.\n",
    "!cd /workspace && python -m pip install -e git+https://github.com/NVIDIA/Megatron-LM#egg=megatron-core"
   ]
  },
  {
   "cell_type": "code",
   "execution_count": 1,
   "id": "476d2bf0-9a07-4712-93de-fc4385cdbe1c",
   "metadata": {
    "tags": []
   },
   "outputs": [],
   "source": [
    "BRANCH='main'\n",
    "import os\n",
    "import wget\n",
    "import sys\n",
    "sys.path.insert(0, \"/workspace/nemo/\")  # find the local nemo first before the installed nemo"
   ]
  },
  {
   "cell_type": "markdown",
   "id": "42daf8bf",
   "metadata": {},
   "source": [
    "### Introduction\n",
    "\n",
    "This notebook demonstrates how to apply PEFT in NeMo. For brevity, we have chosen LoRA as the PEFT technique and GPT as the language model, but the same recipe can be used for other PEFT techniques and language models, as described in the [Training](#training) section.\n",
    "\n",
    " The implementation of LoRA is based on the paper, [LoRA: Low-Rank Adaptation of Large Language Models](https://openreview.net/pdf?id=nZeVKeeFYf9) by Hu et al.\n",
    "\n",
    "This example demonstrates how to:\n",
    "\n",
    "    1. Train a LoRA model on a simple Extractive QA task.\n",
    "    2. Inspect the trained LoRA model showing the parameters it contains.\n",
    "    3. Run inference with the base model with the LoRA parameters."
   ]
  },
  {
   "cell_type": "markdown",
   "id": "0bfc7709",
   "metadata": {},
   "source": [
    "### Tasks and Datasets\n",
    "We will be using LoRA to teach our GPT model to do Extractive Question Answering.\n",
    "\n",
    "We will be using the [SQuAD](https://rajpurkar.github.io/SQuAD-explorer/) reading comprehension dataset, consisting of questions posed by crowd workers on a set of Wikipedia articles, where the answer to every question is a segment of text. More information on [SQuAD](https://rajpurkar.github.io/SQuAD-explorer/) can be found on their website or in their paper by Rajpurkar et. al \"[Know What You Don’t Know: Unanswerable Questions for SQuAD](https://arxiv.org/pdf/1806.03822.pdf)\".\n",
    "\n",
    "LoRA (and all PEFT tuning) models expect at least two fields in the jsonl files. The `input` field should contain all the tokens necessary for the model to generate the `output`. For example for extractive QA, the `input` should contain the context text as well as the question.\n",
    "\n",
    "```\n",
    "[\n",
    "    {\"input\": \"User: Context: [CONTEXT_1] Question: [QUESTION_1]\\n\\nAssistant:\", \"output\": [ANSWER_1]},\n",
    "    {\"input\": \"User: Context: [CONTEXT_2] Question: [QUESTION_2]\\n\\nAssistant:\", \"output\": [ANSWER_2]},\n",
    "    {\"input\": \"User: Context: [CONTEXT_3] Question: [QUESTION_3]\\n\\nAssistant:\", \"output\": [ANSWER_3]},\n",
    "]\n",
    "```\n",
    "Note that we use keywords in the input like `Context:`, `Question:` to separate the text representing the context and question. We also use the keyword `User:` and end each of the input with `\\n\\nAssistant:` tokens. These are recommended because NeMo's instruction-tuned models are trained with a prefix of `User:` and suffix `\\n\\nAssistant:`."
   ]
  },
  {
   "cell_type": "code",
   "execution_count": 2,
   "id": "0dbd41fd",
   "metadata": {
    "tags": []
   },
   "outputs": [],
   "source": [
    "# You can replace DATA_DIR and NEMO_DIR with your own locations\n",
    "DATA_DIR = \"data\"\n",
    "NEMO_DIR = \".\"\n",
    "os.makedirs(DATA_DIR, exist_ok=True)\n",
    "SQUAD_DIR = os.path.join(DATA_DIR, \"SQuAD\")\n",
    "os.makedirs(SQUAD_DIR, exist_ok=True)"
   ]
  },
  {
   "cell_type": "markdown",
   "id": "504a7b40",
   "metadata": {},
   "source": [
    "We have a preprocessing script pre-written in this repository that we will use: `prompt_learning_squad_preprocessing.py`"
   ]
  },
  {
   "cell_type": "markdown",
   "id": "71813919",
   "metadata": {},
   "source": [
    "Let's use that script to load and process the dataset."
   ]
  },
  {
   "cell_type": "code",
   "execution_count": 3,
   "id": "fa16d8ac",
   "metadata": {
    "tags": []
   },
   "outputs": [
    {
     "name": "stdout",
     "output_type": "stream",
     "text": [
      "--2024-03-06 21:42:05--  https://rajpurkar.github.io/SQuAD-explorer/dataset/train-v1.1.json\n",
      "Resolving rajpurkar.github.io (rajpurkar.github.io)... 185.199.111.153, 185.199.109.153, 185.199.108.153, ...\n",
      "Connecting to rajpurkar.github.io (rajpurkar.github.io)|185.199.111.153|:443... connected.\n",
      "HTTP request sent, awaiting response... 200 OK\n",
      "Length: 30288272 (29M) [application/json]\n",
      "Saving to: ‘train-v1.1.json’\n",
      "\n",
      "train-v1.1.json     100%[===================>]  28.88M   139MB/s    in 0.2s    \n",
      "\n",
      "2024-03-06 21:42:06 (139 MB/s) - ‘train-v1.1.json’ saved [30288272/30288272]\n",
      "\n",
      "--2024-03-06 21:42:06--  https://rajpurkar.github.io/SQuAD-explorer/dataset/dev-v1.1.json\n",
      "Resolving rajpurkar.github.io (rajpurkar.github.io)... 185.199.111.153, 185.199.110.153, 185.199.108.153, ...\n",
      "Connecting to rajpurkar.github.io (rajpurkar.github.io)|185.199.111.153|:443... connected.\n",
      "HTTP request sent, awaiting response... 200 OK\n",
      "Length: 4854279 (4.6M) [application/json]\n",
      "Saving to: ‘dev-v1.1.json’\n",
      "\n",
      "dev-v1.1.json       100%[===================>]   4.63M  --.-KB/s    in 0.07s   \n",
      "\n",
      "2024-03-06 21:42:06 (69.5 MB/s) - ‘dev-v1.1.json’ saved [4854279/4854279]\n",
      "\n"
     ]
    }
   ],
   "source": [
    "# Download the SQuAD dataset\n",
    "!wget -nc https://rajpurkar.github.io/SQuAD-explorer/dataset/train-v1.1.json\n",
    "!wget -nc https://rajpurkar.github.io/SQuAD-explorer/dataset/dev-v1.1.json\n",
    "!mv train-v1.1.json {SQUAD_DIR}\n",
    "!mv dev-v1.1.json {SQUAD_DIR}"
   ]
  },
  {
   "cell_type": "code",
   "execution_count": 4,
   "id": "64e3e25b",
   "metadata": {
    "tags": []
   },
   "outputs": [
    {
     "name": "stdout",
     "output_type": "stream",
     "text": [
      "Saving train split to data/SQuAD/squad_train.jsonl\n",
      "100%|█████████████████████████████████| 87599/87599 [00:00<00:00, 144609.88it/s]\n",
      "Saving val split to data/SQuAD/squad_val.jsonl\n",
      "100%|█████████████████████████████████| 10570/10570 [00:00<00:00, 144770.02it/s]\n",
      "Saving test split to data/SQuAD/squad_test_ground_truth.jsonl\n",
      "100%|█████████████████████████████████| 10570/10570 [00:00<00:00, 126567.81it/s]\n",
      "Saving test split to data/SQuAD/squad_test.jsonl\n",
      "100%|█████████████████████████████████| 10570/10570 [00:00<00:00, 143708.99it/s]\n"
     ]
    }
   ],
   "source": [
    "# Preprocess squad data\n",
    "!python prompt_learning_squad_preprocessing.py --sft-format --data-dir {SQUAD_DIR}"
   ]
  },
  {
   "cell_type": "code",
   "execution_count": 5,
   "id": "b562d1de",
   "metadata": {
    "tags": []
   },
   "outputs": [
    {
     "name": "stdout",
     "output_type": "stream",
     "text": [
      "{\"input\": \"User: Context:Super Bowl 50 was an American football game to determine the champion of the National Football League (NFL) for the 2015 season. The American Football Conference (AFC) champion Denver Broncos defeated the National Football Conference (NFC) champion Carolina Panthers 24\\u201310 to earn their third Super Bowl title. The game was played on February 7, 2016, at Levi's Stadium in the San Francisco Bay Area at Santa Clara, California. As this was the 50th Super Bowl, the league emphasized the \\\"golden anniversary\\\" with various gold-themed initiatives, as well as temporarily suspending the tradition of naming each Super Bowl game with Roman numerals (under which the game would have been known as \\\"Super Bowl L\\\"), so that the logo could prominently feature the Arabic numerals 50. Question:Which NFL team represented the AFC at Super Bowl 50?\\n\\nAssistant:\", \"output\": \"Denver Broncos\"}\n",
      "{\"input\": \"User: Context:Super Bowl 50 was an American football game to determine the champion of the National Football League (NFL) for the 2015 season. The American Football Conference (AFC) champion Denver Broncos defeated the National Football Conference (NFC) champion Carolina Panthers 24\\u201310 to earn their third Super Bowl title. The game was played on February 7, 2016, at Levi's Stadium in the San Francisco Bay Area at Santa Clara, California. As this was the 50th Super Bowl, the league emphasized the \\\"golden anniversary\\\" with various gold-themed initiatives, as well as temporarily suspending the tradition of naming each Super Bowl game with Roman numerals (under which the game would have been known as \\\"Super Bowl L\\\"), so that the logo could prominently feature the Arabic numerals 50. Question:Which NFL team represented the NFC at Super Bowl 50?\\n\\nAssistant:\", \"output\": \"Carolina Panthers\"}\n",
      "{\"input\": \"User: Context:Super Bowl 50 was an American football game to determine the champion of the National Football League (NFL) for the 2015 season. The American Football Conference (AFC) champion Denver Broncos defeated the National Football Conference (NFC) champion Carolina Panthers 24\\u201310 to earn their third Super Bowl title. The game was played on February 7, 2016, at Levi's Stadium in the San Francisco Bay Area at Santa Clara, California. As this was the 50th Super Bowl, the league emphasized the \\\"golden anniversary\\\" with various gold-themed initiatives, as well as temporarily suspending the tradition of naming each Super Bowl game with Roman numerals (under which the game would have been known as \\\"Super Bowl L\\\"), so that the logo could prominently feature the Arabic numerals 50. Question:Where did Super Bowl 50 take place?\\n\\nAssistant:\", \"output\": \"Santa Clara, California\"}\n",
      "{\"input\": \"User: Context:Super Bowl 50 was an American football game to determine the champion of the National Football League (NFL) for the 2015 season. The American Football Conference (AFC) champion Denver Broncos defeated the National Football Conference (NFC) champion Carolina Panthers 24\\u201310 to earn their third Super Bowl title. The game was played on February 7, 2016, at Levi's Stadium in the San Francisco Bay Area at Santa Clara, California. As this was the 50th Super Bowl, the league emphasized the \\\"golden anniversary\\\" with various gold-themed initiatives, as well as temporarily suspending the tradition of naming each Super Bowl game with Roman numerals (under which the game would have been known as \\\"Super Bowl L\\\"), so that the logo could prominently feature the Arabic numerals 50. Question:Which NFL team won Super Bowl 50?\\n\\nAssistant:\", \"output\": \"Denver Broncos\"}\n",
      "{\"input\": \"User: Context:Architecturally, the school has a Catholic character. Atop the Main Building's gold dome is a golden statue of the Virgin Mary. Immediately in front of the Main Building and facing it, is a copper statue of Christ with arms upraised with the legend \\\"Venite Ad Me Omnes\\\". Next to the Main Building is the Basilica of the Sacred Heart. Immediately behind the basilica is the Grotto, a Marian place of prayer and reflection. It is a replica of the grotto at Lourdes, France where the Virgin Mary reputedly appeared to Saint Bernadette Soubirous in 1858. At the end of the main drive (and in a direct line that connects through 3 statues and the Gold Dome), is a simple, modern stone statue of Mary. Question:To whom did the Virgin Mary allegedly appear in 1858 in Lourdes France?\\n\\nAssistant:\", \"output\": \"Saint Bernadette Soubirous\"}\n",
      "{\"input\": \"User: Context:Architecturally, the school has a Catholic character. Atop the Main Building's gold dome is a golden statue of the Virgin Mary. Immediately in front of the Main Building and facing it, is a copper statue of Christ with arms upraised with the legend \\\"Venite Ad Me Omnes\\\". Next to the Main Building is the Basilica of the Sacred Heart. Immediately behind the basilica is the Grotto, a Marian place of prayer and reflection. It is a replica of the grotto at Lourdes, France where the Virgin Mary reputedly appeared to Saint Bernadette Soubirous in 1858. At the end of the main drive (and in a direct line that connects through 3 statues and the Gold Dome), is a simple, modern stone statue of Mary. Question:What is in front of the Notre Dame Main Building?\\n\\nAssistant:\", \"output\": \"a copper statue of Christ\"}\n",
      "{\"input\": \"User: Context:Architecturally, the school has a Catholic character. Atop the Main Building's gold dome is a golden statue of the Virgin Mary. Immediately in front of the Main Building and facing it, is a copper statue of Christ with arms upraised with the legend \\\"Venite Ad Me Omnes\\\". Next to the Main Building is the Basilica of the Sacred Heart. Immediately behind the basilica is the Grotto, a Marian place of prayer and reflection. It is a replica of the grotto at Lourdes, France where the Virgin Mary reputedly appeared to Saint Bernadette Soubirous in 1858. At the end of the main drive (and in a direct line that connects through 3 statues and the Gold Dome), is a simple, modern stone statue of Mary. Question:The Basilica of the Sacred heart at Notre Dame is beside to which structure?\\n\\nAssistant:\", \"output\": \"the Main Building\"}\n",
      "{\"input\": \"User: Context:Architecturally, the school has a Catholic character. Atop the Main Building's gold dome is a golden statue of the Virgin Mary. Immediately in front of the Main Building and facing it, is a copper statue of Christ with arms upraised with the legend \\\"Venite Ad Me Omnes\\\". Next to the Main Building is the Basilica of the Sacred Heart. Immediately behind the basilica is the Grotto, a Marian place of prayer and reflection. It is a replica of the grotto at Lourdes, France where the Virgin Mary reputedly appeared to Saint Bernadette Soubirous in 1858. At the end of the main drive (and in a direct line that connects through 3 statues and the Gold Dome), is a simple, modern stone statue of Mary. Question:What is the Grotto at Notre Dame?\\n\\nAssistant:\", \"output\": \"a Marian place of prayer and reflection\"}\n"
     ]
    }
   ],
   "source": [
    "# What the squad dataset looks like after processing\n",
    "! head -200 $SQUAD_DIR/squad_train.jsonl > $SQUAD_DIR/squad_short_train.jsonl\n",
    "! head -20 $SQUAD_DIR/squad_val.jsonl > $SQUAD_DIR/squad_short_val.jsonl\n",
    "! head -4 $SQUAD_DIR/squad_short_val.jsonl\n",
    "! head -4 $SQUAD_DIR/squad_short_train.jsonl"
   ]
  },
  {
   "cell_type": "markdown",
   "id": "2e19c8dc",
   "metadata": {},
   "source": [
    "### Model Config Setup\n",
    "Now we will begin setting up the config file needed for PEFT tuning. We use a single config for all supported PEFT methods (LoRA, Adapter, IA3 and P-Tuning, as well as combinations of these).  All PEFT methods use the GPT finetuning class `MegatronGPTSFTModel` as the frozen base network, and use the `add_adapter()` method to add adapter weights for PEFT.\n",
    "\n",
    "The config required for our model has been included as part of this repository in `conf/megatron_gpt_prompt_finetuning_config.yaml` file. This is based on the example configs which can be found at `https://github.com/NVIDIA/NeMo/tree/main/examples/nlp/language_modeling/conf`. \n",
    "\n",
    "We will start by loading the example config file, then make changes to it to fit our tasks and training plans. "
   ]
  },
  {
   "cell_type": "code",
   "execution_count": 6,
   "id": "b7ad7769-a95d-49b8-8469-27d59186a0e8",
   "metadata": {
    "tags": []
   },
   "outputs": [],
   "source": [
    "from omegaconf import OmegaConf\n",
    "\n",
    "CONFIG_DIR = os.path.join(NEMO_DIR, \"conf\")\n",
    "os.makedirs(CONFIG_DIR, exist_ok=True)\n",
    "\n",
    "# Load the example config file so we can start editing it\n",
    "CONFIG_PATH = os.path.join(CONFIG_DIR, \"megatron_gpt_finetuning_config.yaml\")\n",
    "config = OmegaConf.load(CONFIG_PATH)"
   ]
  },
  {
   "cell_type": "markdown",
   "id": "ce966bcf",
   "metadata": {},
   "source": [
    "The `config` contains several attributes required by the `MegatronGPTSFTModel`. First we will set the training data path and the validation data path in the config.\n",
    "The `config` allows us to set a list of `jsonl` files as training files and sample examples from each file with different probabilities. For simplicity, we are going to use just one training file and thus the sampling probability is set to `1.0`\n",
    "\n",
    "We can also monitor validation loss from multiple validation files during training. Again for simplicity we will use just one validation file."
   ]
  },
  {
   "cell_type": "code",
   "execution_count": 7,
   "id": "6bb1590f",
   "metadata": {
    "tags": []
   },
   "outputs": [],
   "source": [
    "config.model.data.train_ds.file_names = [f\"{SQUAD_DIR}/squad_short_train.jsonl\"]\n",
    "config.model.data.train_ds.concat_sampling_probabilities=[1.0]\n",
    "config.model.data.validation_ds.file_names = [f\"{SQUAD_DIR}/squad_short_val.jsonl\"]\n",
    "config.model.data.validation_ds.names=[\"squad_val\"]"
   ]
  },
  {
   "cell_type": "markdown",
   "id": "f6b7831a",
   "metadata": {},
   "source": [
    "### PEFT Config\n",
    "The attribute [config.model.peft](https://github.com/NVIDIA/NeMo/blob/main/examples/nlp/language_modeling/tuning/conf/megatron_gpt_finetuning_config.yaml#L78) contains settings that control the PEFT training method and its related hyperpameters. We currently support `lora`, `adapter`, `ptuning` and `ia3`. We can instruct the training script to use one of these methods by setting the config.model.peft.peft_scheme attribute.\n",
    "\n",
    "The other hyperparams associated with lora tuning are present in the [config.model.peft.lora_tuning](https://github.com/NVIDIA/NeMo/blob/main/examples/nlp/language_modeling/tuning/conf/megatron_gpt_finetuning_config.yaml#L92) attribute."
   ]
  },
  {
   "cell_type": "code",
   "execution_count": 8,
   "id": "72c9f966",
   "metadata": {
    "tags": []
   },
   "outputs": [
    {
     "name": "stdout",
     "output_type": "stream",
     "text": [
      "target_modules:\n",
      "- attention_qkv\n",
      "adapter_dim: 32\n",
      "alpha: ${model.peft.lora_tuning.adapter_dim}\n",
      "adapter_dropout: 0.0\n",
      "column_init_method: xavier\n",
      "row_init_method: zero\n",
      "layer_selection: null\n",
      "weight_tying: false\n",
      "position_embedding_strategy: null\n",
      "\n"
     ]
    }
   ],
   "source": [
    "config.model.peft.peft_scheme=\"lora\"  # we can also set this to adapter or ptuning or ia3\n",
    "print(OmegaConf.to_yaml(config.model.peft.lora_tuning))"
   ]
  },
  {
   "cell_type": "markdown",
   "id": "c32e73c3",
   "metadata": {},
   "source": [
    "**Note:** In the original LoRA paper each attention projection (`K`, `Q`, `V` and `O`) can have their own Low-Rank projections. However, NeMo's attention implementation fuses `KQV` into a single projection and thus our LoRA implementation learns a single Low-Rank projection for `KQV` in a combined fashion. We do not support LoRA for the `O` matrix at this point."
   ]
  },
  {
   "cell_type": "markdown",
   "id": "4e021b24",
   "metadata": {},
   "source": [
    "### Prompt Formatting\n",
    "The `config.model.data.train_ds.prompt_template` attribute allows us to further tweak the format of the input and output if needed. In this example, we have already incorporated our format inside the `jsonl` file during preprocessing, so we can keep the `prompt_template` in the config simple. (See previous section on Data Preparation)."
   ]
  },
  {
   "cell_type": "code",
   "execution_count": 9,
   "id": "1b6aa5c7",
   "metadata": {
    "tags": []
   },
   "outputs": [],
   "source": [
    "config.model.data.train_ds.prompt_template =\"{input} {output}\""
   ]
  },
  {
   "cell_type": "markdown",
   "id": "a0d5017e",
   "metadata": {},
   "source": [
    "### Setting the Pretrained GPT Model\n",
    "Next we will set the \"base language model\" upon which we will perform LoRA tuning. Obviously, larger base models will have better performance on downstream tasks but for the purposes of this tutorial we will use a small 345M parameter GPT model."
   ]
  },
  {
   "cell_type": "code",
   "execution_count": 10,
   "id": "48cdf868",
   "metadata": {
    "tags": []
   },
   "outputs": [
    {
     "data": {
      "text/plain": [
       "'https://api.ngc.nvidia.com/v2/models/nvidia/nemo/megatron_gpt_345m/versions/1/files/megatron_gpt_345m.nemo'"
      ]
     },
     "execution_count": 10,
     "metadata": {},
     "output_type": "execute_result"
    }
   ],
   "source": [
    "# Check what GPT .nemo models we have available on NGC\n",
    "from nemo.collections.nlp.models.language_modeling.megatron_gpt_model import MegatronGPTModel\n",
    "megatron_gpt_345m_nemo_url = MegatronGPTModel.list_available_models()[0].location\n",
    "megatron_gpt_345m_nemo_url # should point to the 345m megatron gpt model '.nemo' file"
   ]
  },
  {
   "cell_type": "markdown",
   "id": "ede350ed",
   "metadata": {},
   "source": [
    "If we wanted to use the GPT model class directly, we could instantiate a trainer then download the model by calling running \n",
    "`gpt_model = MegatronGPTModel.from_pretrained(model_name=\"megatron_gpt_345m\", trainer=trainer).cuda()`. But we just need the `.nemo` file in our working NeMo directory in this tutorial, so we will download it using `wget`. "
   ]
  },
  {
   "cell_type": "code",
   "execution_count": 11,
   "id": "364439a1",
   "metadata": {
    "scrolled": true,
    "tags": []
   },
   "outputs": [],
   "source": [
    "# Download the model from NGC\n",
    "gpt_file_name = \"/mnt/data/nvidia-nemo/Nemotron-3-8B-Base-4k.nemo\""
   ]
  },
  {
   "cell_type": "code",
   "execution_count": 12,
   "id": "2ec72994",
   "metadata": {
    "collapsed": false,
    "jupyter": {
     "outputs_hidden": false
    },
    "tags": []
   },
   "outputs": [
    {
     "name": "stdout",
     "output_type": "stream",
     "text": [
      "--2024-03-06 17:37:32--  https://api.ngc.nvidia.com/v2/models/nvidia/nemo/megatron_gpt_345m/versions/1/files/megatron_gpt_345m.nemo\n",
      "Resolving api.ngc.nvidia.com (api.ngc.nvidia.com)... 52.43.86.115, 54.148.95.201\n",
      "Connecting to api.ngc.nvidia.com (api.ngc.nvidia.com)|52.43.86.115|:443... connected.\n",
      "HTTP request sent, awaiting response... 302 Found\n",
      "Location: https://files.ngc.nvidia.com/org/nvidia/team/nemo/models/megatron_gpt_345m/versions/1/files/megatron_gpt_345m.nemo?Expires=1709750252&Signature=bpApaJR4oGUWvpeF15~BOoGT0lEWjugWW10PrlRpjzKU4kO6EMCCkHppYZUxduRNHmGUOKjC5Ucr6uClcZd4TVz5iayCoQ6foVGkk10s06ovpZVFUxstR672ikEyxQ3JfZHfwpbHG6it2TfviMFB2zImD6b6~o-Z1Ji7o96aDMY0ZfIk0bZYRdTNnNOCwsEVXJ9U9tzaZJ2XK~aj2uVUt4gM9mrrl4tbwCjssE0cFJYIeF441GOIUz9UIjmj-YS6m0Ebzupk6hy3FVpqeeebfd76tZrjfuo62PzIDloaYSskouD7ectBuuI-h8aKZfKchqWFrdRmAEhKIz6bMpClwQ__&Key-Pair-Id=KCX06E8E9L60W [following]\n",
      "--2024-03-06 17:37:32--  https://files.ngc.nvidia.com/org/nvidia/team/nemo/models/megatron_gpt_345m/versions/1/files/megatron_gpt_345m.nemo?Expires=1709750252&Signature=bpApaJR4oGUWvpeF15~BOoGT0lEWjugWW10PrlRpjzKU4kO6EMCCkHppYZUxduRNHmGUOKjC5Ucr6uClcZd4TVz5iayCoQ6foVGkk10s06ovpZVFUxstR672ikEyxQ3JfZHfwpbHG6it2TfviMFB2zImD6b6~o-Z1Ji7o96aDMY0ZfIk0bZYRdTNnNOCwsEVXJ9U9tzaZJ2XK~aj2uVUt4gM9mrrl4tbwCjssE0cFJYIeF441GOIUz9UIjmj-YS6m0Ebzupk6hy3FVpqeeebfd76tZrjfuo62PzIDloaYSskouD7ectBuuI-h8aKZfKchqWFrdRmAEhKIz6bMpClwQ__&Key-Pair-Id=KCX06E8E9L60W\n",
      "Resolving files.ngc.nvidia.com (files.ngc.nvidia.com)... 18.161.6.113, 18.161.6.107, 18.161.6.28, ...\n",
      "Connecting to files.ngc.nvidia.com (files.ngc.nvidia.com)|18.161.6.113|:443... connected.\n",
      "HTTP request sent, awaiting response... 200 OK\n",
      "Length: 1422622720 (1.3G) [application/x-zerosize]\n",
      "Saving to: ‘./megatron_gpt_345m.nemo’\n",
      "\n",
      "./megatron_gpt_345m 100%[===================>]   1.32G   370MB/s    in 3.7s    \n",
      "\n",
      "2024-03-06 17:37:36 (363 MB/s) - ‘./megatron_gpt_345m.nemo’ saved [1422622720/1422622720]\n",
      "\n"
     ]
    }
   ],
   "source": [
    "!wget  -nc --content-disposition {megatron_gpt_345m_nemo_url} -O {NEMO_DIR}/{gpt_file_name}"
   ]
  },
  {
   "cell_type": "markdown",
   "id": "1d6a8a67",
   "metadata": {},
   "source": [
    "Now that we have a `.nemo` GPT file to work with. We need to add its path in our prompt learning config. "
   ]
  },
  {
   "cell_type": "code",
   "execution_count": 12,
   "id": "2778a5fa",
   "metadata": {
    "jupyter": {
     "source_hidden": true
    },
    "tags": []
   },
   "outputs": [],
   "source": [
    "# Set GPT model path on prompt learning config\n",
    "config.model.restore_from_path = gpt_file_name"
   ]
  },
  {
   "cell_type": "markdown",
   "id": "943a9c83",
   "metadata": {},
   "source": [
    "Next, we will set where we want to save all the intermediate training logs and checkpoints. As well as other training settings such as: number of training steps, batch size and validation check interval, and num_workers for data processing."
   ]
  },
  {
   "cell_type": "code",
   "execution_count": 12,
   "id": "a278cbdf",
   "metadata": {
    "tags": []
   },
   "outputs": [],
   "source": [
    "config.exp_manager.exp_dir=f\"{NEMO_DIR}/peft_lora\"\n",
    "config.exp_manager.explicit_log_dir=\"training_info\"\n",
    "config.trainer.max_steps=100\n",
    "config.model.micro_batch_size=1\n",
    "config.model.global_batch_size=4\n",
    "config.trainer.val_check_interval=50\n",
    "config.model.data.train_ds.num_workers=0  # 0 is recommended which just uses the main thread to process training examples\n",
    "config.model.data.validation_ds.num_workers=0 # 0 is recommended which just uses the main thread to process the validation examples"
   ]
  },
  {
   "cell_type": "markdown",
   "id": "a988d16e",
   "metadata": {},
   "source": [
    "Let's have a look at all the values we've set in the model config. You can change any of these values in the same manner we've been using above. "
   ]
  },
  {
   "cell_type": "code",
   "execution_count": 13,
   "id": "12a37ada",
   "metadata": {
    "scrolled": true,
    "tags": []
   },
   "outputs": [
    {
     "name": "stdout",
     "output_type": "stream",
     "text": [
      "seed: 1234\n",
      "tensor_model_parallel_size: 1\n",
      "pipeline_model_parallel_size: 1\n",
      "global_batch_size: 4\n",
      "micro_batch_size: 1\n",
      "restore_from_path: /mnt/data/nvidia-nemo/Nemotron-3-8B-Base-4k.nemo\n",
      "resume_from_checkpoint: null\n",
      "save_nemo_on_validation_end: false\n",
      "sync_batch_comm: false\n",
      "megatron_amp_O2: false\n",
      "sequence_parallel: false\n",
      "activations_checkpoint_granularity: null\n",
      "activations_checkpoint_method: null\n",
      "activations_checkpoint_num_layers: null\n",
      "activations_checkpoint_layers_per_pipeline: null\n",
      "answer_only_loss: true\n",
      "gradient_as_bucket_view: false\n",
      "hidden_dropout: 0.0\n",
      "attention_dropout: 0.0\n",
      "ffn_dropout: 0.0\n",
      "fsdp: false\n",
      "fsdp_sharding_strategy: full\n",
      "fsdp_grad_reduce_dtype: fp32\n",
      "fsdp_sharded_checkpoint: false\n",
      "fsdp_use_orig_params: false\n",
      "peft:\n",
      "  peft_scheme: lora\n",
      "  restore_from_path: null\n",
      "  adapter_tuning:\n",
      "    type: parallel_adapter\n",
      "    adapter_dim: 32\n",
      "    adapter_dropout: 0.0\n",
      "    norm_position: pre\n",
      "    column_init_method: xavier\n",
      "    row_init_method: zero\n",
      "    norm_type: mixedfusedlayernorm\n",
      "    layer_selection: null\n",
      "    weight_tying: false\n",
      "    position_embedding_strategy: null\n",
      "  lora_tuning:\n",
      "    target_modules:\n",
      "    - attention_qkv\n",
      "    adapter_dim: 32\n",
      "    alpha: ${model.peft.lora_tuning.adapter_dim}\n",
      "    adapter_dropout: 0.0\n",
      "    column_init_method: xavier\n",
      "    row_init_method: zero\n",
      "    layer_selection: null\n",
      "    weight_tying: false\n",
      "    position_embedding_strategy: null\n",
      "  p_tuning:\n",
      "    virtual_tokens: 10\n",
      "    bottleneck_dim: 1024\n",
      "    embedding_dim: 1024\n",
      "    init_std: 0.023\n",
      "  ia3_tuning:\n",
      "    layer_selection: null\n",
      "  selective_tuning:\n",
      "    tunable_base_param_names:\n",
      "    - self_attention\n",
      "    - word_embeddings\n",
      "data:\n",
      "  train_ds:\n",
      "    file_names:\n",
      "    - data/SQuAD/squad_short_train.jsonl\n",
      "    global_batch_size: ${model.global_batch_size}\n",
      "    micro_batch_size: ${model.micro_batch_size}\n",
      "    shuffle: true\n",
      "    num_workers: 0\n",
      "    memmap_workers: 2\n",
      "    pin_memory: true\n",
      "    max_seq_length: 2048\n",
      "    min_seq_length: 1\n",
      "    drop_last: true\n",
      "    concat_sampling_probabilities:\n",
      "    - 1.0\n",
      "    label_key: output\n",
      "    add_eos: true\n",
      "    add_sep: false\n",
      "    add_bos: false\n",
      "    truncation_field: input\n",
      "    index_mapping_dir: null\n",
      "    prompt_template: '{input} {output}'\n",
      "    truncation_method: right\n",
      "  validation_ds:\n",
      "    file_names:\n",
      "    - data/SQuAD/squad_short_val.jsonl\n",
      "    names:\n",
      "    - squad_val\n",
      "    global_batch_size: ${model.global_batch_size}\n",
      "    micro_batch_size: ${model.micro_batch_size}\n",
      "    shuffle: false\n",
      "    num_workers: 0\n",
      "    memmap_workers: ${model.data.train_ds.memmap_workers}\n",
      "    pin_memory: true\n",
      "    max_seq_length: 2048\n",
      "    min_seq_length: 1\n",
      "    drop_last: false\n",
      "    label_key: ${model.data.train_ds.label_key}\n",
      "    add_eos: ${model.data.train_ds.add_eos}\n",
      "    add_sep: ${model.data.train_ds.add_sep}\n",
      "    add_bos: ${model.data.train_ds.add_bos}\n",
      "    write_predictions_to_file: false\n",
      "    output_file_path_prefix: null\n",
      "    truncation_field: ${model.data.train_ds.truncation_field}\n",
      "    index_mapping_dir: null\n",
      "    prompt_template: ${model.data.train_ds.prompt_template}\n",
      "    tokens_to_generate: 32\n",
      "    truncation_method: right\n",
      "    metric:\n",
      "      name: loss\n",
      "      average: null\n",
      "      num_classes: null\n",
      "  test_ds:\n",
      "    file_names: null\n",
      "    names: null\n",
      "    global_batch_size: ${model.global_batch_size}\n",
      "    micro_batch_size: ${model.micro_batch_size}\n",
      "    shuffle: false\n",
      "    num_workers: 0\n",
      "    memmap_workers: ${model.data.train_ds.memmap_workers}\n",
      "    pin_memory: true\n",
      "    max_seq_length: 2048\n",
      "    min_seq_length: 1\n",
      "    drop_last: false\n",
      "    label_key: ${model.data.train_ds.label_key}\n",
      "    add_eos: ${model.data.train_ds.add_eos}\n",
      "    add_sep: ${model.data.train_ds.add_sep}\n",
      "    add_bos: ${model.data.train_ds.add_bos}\n",
      "    write_predictions_to_file: false\n",
      "    output_file_path_prefix: null\n",
      "    truncation_field: ${model.data.train_ds.truncation_field}\n",
      "    index_mapping_dir: null\n",
      "    prompt_template: ${model.data.train_ds.prompt_template}\n",
      "    tokens_to_generate: 32\n",
      "    truncation_method: right\n",
      "    metric:\n",
      "      name: loss\n",
      "      average: null\n",
      "      num_classes: null\n",
      "optim:\n",
      "  name: fused_adam\n",
      "  lr: 0.0001\n",
      "  weight_decay: 0.01\n",
      "  betas:\n",
      "  - 0.9\n",
      "  - 0.98\n",
      "  sched:\n",
      "    name: CosineAnnealing\n",
      "    warmup_steps: 50\n",
      "    min_lr: 0.0\n",
      "    constant_steps: 0\n",
      "    monitor: val_loss\n",
      "    reduce_on_plateau: false\n",
      "\n"
     ]
    }
   ],
   "source": [
    "# Final model config\n",
    "print(OmegaConf.to_yaml(config.model))"
   ]
  },
  {
   "cell_type": "markdown",
   "id": "4c048852",
   "metadata": {},
   "source": [
    "### Building the PyTorch Lightning Trainer\n",
    "NeMo models are primarily PyTorch Lightning modules - and therefore are entirely compatible with the PyTorch Lightning ecosystem.\n",
    "\n",
    "Let's first instantiate a Trainer object"
   ]
  },
  {
   "cell_type": "code",
   "execution_count": 14,
   "id": "90f85b2a",
   "metadata": {
    "tags": []
   },
   "outputs": [
    {
     "name": "stdout",
     "output_type": "stream",
     "text": [
      "[NeMo I 2024-03-06 21:42:28 megatron_trainer_builder:49] Detected interactive environment, using NLPDDPStrategyNotebook\n"
     ]
    },
    {
     "name": "stderr",
     "output_type": "stream",
     "text": [
      "[NeMo W 2024-03-06 21:42:29 nemo_logging:349] /usr/local/lib/python3.10/dist-packages/lightning_fabric/connector.py:554: UserWarning: 16 is supported for historical reasons but its usage is discouraged. Please set your precision to 16-mixed instead!\n",
      "      rank_zero_warn(\n",
      "    \n",
      "GPU available: True (cuda), used: True\n",
      "TPU available: False, using: 0 TPU cores\n",
      "IPU available: False, using: 0 IPUs\n",
      "HPU available: False, using: 0 HPUs\n",
      "`Trainer(val_check_interval=1.0)` was configured so validation will run at the end of the training epoch..\n"
     ]
    },
    {
     "name": "stdout",
     "output_type": "stream",
     "text": [
      "Trainer config - \n",
      "\n",
      "devices: 1\n",
      "accelerator: gpu\n",
      "num_nodes: 1\n",
      "precision: 16\n",
      "logger: false\n",
      "enable_checkpointing: false\n",
      "use_distributed_sampler: false\n",
      "max_epochs: 4\n",
      "max_steps: 100\n",
      "log_every_n_steps: 10\n",
      "val_check_interval: 1.0\n",
      "gradient_clip_val: 1.0\n",
      "\n"
     ]
    }
   ],
   "source": [
    "from nemo.collections.nlp.parts.nlp_overrides import NLPDDPStrategy\n",
    "import torch\n",
    "import pytorch_lightning as pl\n",
    "from nemo.collections.nlp.parts.megatron_trainer_builder import MegatronTrainerBuilder\n",
    "\n",
    "# let's modify some trainer configs\n",
    "# check if we have GPU available and uses it\n",
    "accelerator = 'gpu' if torch.cuda.is_available() else 'cpu'\n",
    "config.trainer.accelerator = accelerator\n",
    "config.trainer.devices = 1\n",
    "config.trainer.max_epochs = 4\n",
    "config.trainer.val_check_interval = 1.0\n",
    "\n",
    "# for PyTorch Native AMP set precision=16\n",
    "config.trainer.precision = 16 if torch.cuda.is_available() else 32\n",
    "\n",
    "# setup cluster environment parameters\"\n",
    "os.environ[\"LOCAL_RANK\"] = '0'\n",
    "os.environ[\"RANK\"] = '0'\n",
    "os.environ[\"WORLD_SIZE\"] = '1'\n",
    "\n",
    "trainer = MegatronTrainerBuilder(config).create_trainer()\n",
    "\n",
    "print(\"Trainer config - \\n\")\n",
    "print(OmegaConf.to_yaml(config.trainer))"
   ]
  },
  {
   "cell_type": "code",
   "execution_count": 15,
   "id": "890f0dc5",
   "metadata": {
    "tags": []
   },
   "outputs": [
    {
     "name": "stdout",
     "output_type": "stream",
     "text": [
      "explicit_log_dir: training_info\n",
      "exp_dir: ./peft_lora\n",
      "name: ${name}\n",
      "create_wandb_logger: false\n",
      "wandb_logger_kwargs:\n",
      "  project: null\n",
      "  name: null\n",
      "resume_if_exists: true\n",
      "resume_ignore_no_checkpoint: true\n",
      "create_checkpoint_callback: true\n",
      "checkpoint_callback_params:\n",
      "  monitor: validation_${model.data.validation_ds.metric.name}\n",
      "  save_top_k: 1\n",
      "  mode: min\n",
      "  save_nemo_on_train_end: true\n",
      "  filename: ${name}--{${exp_manager.checkpoint_callback_params.monitor}:.3f}-{step}-{consumed_samples}\n",
      "  model_parallel_size: ${model.tensor_model_parallel_size}\n",
      "  always_save_nemo: false\n",
      "  save_best_model: true\n",
      "create_early_stopping_callback: true\n",
      "early_stopping_callback_params:\n",
      "  monitor: val_loss\n",
      "  mode: min\n",
      "  min_delta: 0.001\n",
      "  patience: 10\n",
      "  verbose: true\n",
      "  strict: false\n",
      "\n"
     ]
    }
   ],
   "source": [
    "print(OmegaConf.to_yaml(config.exp_manager))"
   ]
  },
  {
   "cell_type": "markdown",
   "id": "4d0124c1",
   "metadata": {},
   "source": [
    "### Setting up a NeMo Experiment\n",
    "\n",
    "NeMo has an experiment manager that handles logging and checkpointing for us, so let's use it:"
   ]
  },
  {
   "cell_type": "code",
   "execution_count": 16,
   "id": "4697e3e4-638b-4e19-b418-cf8e68e68e1a",
   "metadata": {
    "tags": []
   },
   "outputs": [
    {
     "name": "stderr",
     "output_type": "stream",
     "text": [
      "[NeMo E 2024-03-06 21:42:30 exp_manager:684] exp_manager received explicit_log_dir: training_info and at least one of exp_dir: ./peft_lora, or version: None. Please note that exp_dir, name, and version will be ignored.\n",
      "[NeMo W 2024-03-06 21:42:30 exp_manager:689] Exp_manager is logging to training_info, but it already exists.\n"
     ]
    },
    {
     "name": "stdout",
     "output_type": "stream",
     "text": [
      "[NeMo I 2024-03-06 21:42:30 exp_manager:394] Experiments will be logged at training_info\n",
      "[NeMo I 2024-03-06 21:42:30 exp_manager:835] TensorboardLogger has been set up\n"
     ]
    },
    {
     "name": "stderr",
     "output_type": "stream",
     "text": [
      "[NeMo W 2024-03-06 21:42:30 exp_manager:931] The checkpoint callback was told to monitor a validation value and trainer's max_steps was set to 100. Please ensure that max_steps will run for at least 1 epochs to ensure that checkpointing will not error out.\n"
     ]
    },
    {
     "name": "stdout",
     "output_type": "stream",
     "text": [
      "training_info\n"
     ]
    }
   ],
   "source": [
    "from nemo.utils.exp_manager import exp_manager\n",
    "\n",
    "# Set name of the experiment \n",
    "config.name = 'lora_example_tuning'\n",
    "config.exp_manager.resume_if_exists = False\n",
    "\n",
    "\n",
    "# Commenting out MLflow logging code for now (not working at the moment)\n",
    "\n",
    "# config.exp_manager.create_mlflow_logger = True\n",
    "# config.exp_manager.mlflow_logger_kwargs = { \n",
    "#     'experiment_name':'lora_example_tuning',\n",
    "#     'tracking_uri': os.getenv('MLFLOW_TRACKING_URI')\n",
    "# }\n",
    "\n",
    "# Init the experiment manager and view the exp_dir\n",
    "exp_dir = exp_manager(trainer, config.get(\"exp_manager\", None))\n",
    "exp_dir = str(exp_dir)\n",
    "print(exp_dir)"
   ]
  },
  {
   "cell_type": "code",
   "execution_count": 17,
   "id": "6adfb0b1-9168-4199-8cbe-c05b6b545e37",
   "metadata": {
    "tags": []
   },
   "outputs": [
    {
     "name": "stderr",
     "output_type": "stream",
     "text": [
      "2024/03/06 21:42:31 WARNING mlflow.utils.autologging_utils: You are using an unsupported version of pytorch. If you encounter errors during autologging, try upgrading / downgrading pytorch to a supported version, or try upgrading MLflow.\n",
      "2024/03/06 21:42:31 INFO mlflow.tracking.fluent: Autologging successfully enabled for pytorch_lightning.\n",
      "2024/03/06 21:42:31 INFO mlflow.tracking.fluent: Autologging successfully enabled for transformers.\n",
      "2024/03/06 21:42:31 INFO mlflow.tracking.fluent: Autologging successfully enabled for sklearn.\n"
     ]
    }
   ],
   "source": [
    "import mlflow\n",
    "mlflow.set_experiment(\"lora-tuning\")\n",
    "mlflow.autolog()"
   ]
  },
  {
   "cell_type": "markdown",
   "id": "298b3dce",
   "metadata": {},
   "source": [
    "### Training\n",
    "We now set up the process for training a LoRA model. We first require a config that contains details about the base language model upon which we will train our LoRA model. So we first extract the `model_cfg` from the checkpoint and update it with any new settings we employ in our current (LoRA) `config`. These are combined in the `merge_cfg_with` function.\n",
    "\n"
   ]
  },
  {
   "cell_type": "code",
   "execution_count": 23,
   "id": "6679aadb-fa84-46ff-b3d4-7f474313438c",
   "metadata": {
    "tags": []
   },
   "outputs": [
    {
     "data": {
      "text/plain": [
       "{'seed': 1234, 'tensor_model_parallel_size': 1, 'pipeline_model_parallel_size': 1, 'global_batch_size': 4, 'micro_batch_size': 1, 'restore_from_path': '/mnt/data/nvidia-nemo/Nemotron-3-8B-Base-4k.nemo', 'resume_from_checkpoint': None, 'save_nemo_on_validation_end': False, 'sync_batch_comm': False, 'megatron_amp_O2': False, 'sequence_parallel': False, 'activations_checkpoint_granularity': None, 'activations_checkpoint_method': None, 'activations_checkpoint_num_layers': None, 'activations_checkpoint_layers_per_pipeline': None, 'answer_only_loss': True, 'gradient_as_bucket_view': False, 'hidden_dropout': 0.0, 'attention_dropout': 0.0, 'ffn_dropout': 0.0, 'fsdp': False, 'fsdp_sharding_strategy': 'full', 'fsdp_grad_reduce_dtype': 'fp32', 'fsdp_sharded_checkpoint': False, 'fsdp_use_orig_params': False, 'peft': {'peft_scheme': 'lora', 'restore_from_path': None, 'adapter_tuning': {'type': 'parallel_adapter', 'adapter_dim': 32, 'adapter_dropout': 0.0, 'norm_position': 'pre', 'column_init_method': 'xavier', 'row_init_method': 'zero', 'norm_type': 'mixedfusedlayernorm', 'layer_selection': None, 'weight_tying': False, 'position_embedding_strategy': None}, 'lora_tuning': {'target_modules': ['attention_qkv'], 'adapter_dim': 32, 'alpha': '${model.peft.lora_tuning.adapter_dim}', 'adapter_dropout': 0.0, 'column_init_method': 'xavier', 'row_init_method': 'zero', 'layer_selection': None, 'weight_tying': False, 'position_embedding_strategy': None}, 'p_tuning': {'virtual_tokens': 10, 'bottleneck_dim': 1024, 'embedding_dim': 1024, 'init_std': 0.023}, 'ia3_tuning': {'layer_selection': None}, 'selective_tuning': {'tunable_base_param_names': ['self_attention', 'word_embeddings']}}, 'data': {'train_ds': {'file_names': ['data/SQuAD/squad_short_train.jsonl'], 'global_batch_size': '${model.global_batch_size}', 'micro_batch_size': '${model.micro_batch_size}', 'shuffle': True, 'num_workers': 0, 'memmap_workers': 2, 'pin_memory': True, 'max_seq_length': 2048, 'min_seq_length': 1, 'drop_last': True, 'concat_sampling_probabilities': [1.0], 'label_key': 'output', 'add_eos': True, 'add_sep': False, 'add_bos': False, 'truncation_field': 'input', 'index_mapping_dir': None, 'prompt_template': '{input} {output}', 'truncation_method': 'right'}, 'validation_ds': {'file_names': ['data/SQuAD/squad_short_val.jsonl'], 'names': ['squad_val'], 'global_batch_size': '${model.global_batch_size}', 'micro_batch_size': '${model.micro_batch_size}', 'shuffle': False, 'num_workers': 0, 'memmap_workers': '${model.data.train_ds.memmap_workers}', 'pin_memory': True, 'max_seq_length': 2048, 'min_seq_length': 1, 'drop_last': False, 'label_key': '${model.data.train_ds.label_key}', 'add_eos': '${model.data.train_ds.add_eos}', 'add_sep': '${model.data.train_ds.add_sep}', 'add_bos': '${model.data.train_ds.add_bos}', 'write_predictions_to_file': False, 'output_file_path_prefix': None, 'truncation_field': '${model.data.train_ds.truncation_field}', 'index_mapping_dir': None, 'prompt_template': '${model.data.train_ds.prompt_template}', 'tokens_to_generate': 32, 'truncation_method': 'right', 'metric': {'name': 'loss', 'average': None, 'num_classes': None}}, 'test_ds': {'file_names': None, 'names': None, 'global_batch_size': '${model.global_batch_size}', 'micro_batch_size': '${model.micro_batch_size}', 'shuffle': False, 'num_workers': 0, 'memmap_workers': '${model.data.train_ds.memmap_workers}', 'pin_memory': True, 'max_seq_length': 2048, 'min_seq_length': 1, 'drop_last': False, 'label_key': '${model.data.train_ds.label_key}', 'add_eos': '${model.data.train_ds.add_eos}', 'add_sep': '${model.data.train_ds.add_sep}', 'add_bos': '${model.data.train_ds.add_bos}', 'write_predictions_to_file': False, 'output_file_path_prefix': None, 'truncation_field': '${model.data.train_ds.truncation_field}', 'index_mapping_dir': None, 'prompt_template': '${model.data.train_ds.prompt_template}', 'tokens_to_generate': 32, 'truncation_method': 'right', 'metric': {'name': 'loss', 'average': None, 'num_classes': None}}}, 'optim': {'name': 'fused_adam', 'lr': 0.0001, 'weight_decay': 0.01, 'betas': [0.9, 0.98], 'sched': {'name': 'CosineAnnealing', 'warmup_steps': 50, 'min_lr': 0.0, 'constant_steps': 0, 'monitor': 'val_loss', 'reduce_on_plateau': False}}}"
      ]
     },
     "execution_count": 23,
     "metadata": {},
     "output_type": "execute_result"
    }
   ],
   "source": [
    "config.model"
   ]
  },
  {
   "cell_type": "code",
   "execution_count": 19,
   "id": "edb38445",
   "metadata": {
    "tags": []
   },
   "outputs": [
    {
     "ename": "ReadError",
     "evalue": "unexpected end of data",
     "output_type": "error",
     "traceback": [
      "\u001b[0;31m---------------------------------------------------------------------------\u001b[0m",
      "\u001b[0;31mReadError\u001b[0m                                 Traceback (most recent call last)",
      "Cell \u001b[0;32mIn[19], line 3\u001b[0m\n\u001b[1;32m      1\u001b[0m \u001b[38;5;28;01mfrom\u001b[39;00m \u001b[38;5;21;01mnemo\u001b[39;00m\u001b[38;5;21;01m.\u001b[39;00m\u001b[38;5;21;01mcollections\u001b[39;00m\u001b[38;5;21;01m.\u001b[39;00m\u001b[38;5;21;01mnlp\u001b[39;00m\u001b[38;5;21;01m.\u001b[39;00m\u001b[38;5;21;01mmodels\u001b[39;00m\u001b[38;5;21;01m.\u001b[39;00m\u001b[38;5;21;01mlanguage_modeling\u001b[39;00m\u001b[38;5;21;01m.\u001b[39;00m\u001b[38;5;21;01mmegatron_gpt_sft_model\u001b[39;00m \u001b[38;5;28;01mimport\u001b[39;00m MegatronGPTSFTModel\n\u001b[0;32m----> 3\u001b[0m model_cfg \u001b[38;5;241m=\u001b[39m \u001b[43mMegatronGPTSFTModel\u001b[49m\u001b[38;5;241;43m.\u001b[39;49m\u001b[43mmerge_cfg_with\u001b[49m\u001b[43m(\u001b[49m\u001b[43mconfig\u001b[49m\u001b[38;5;241;43m.\u001b[39;49m\u001b[43mmodel\u001b[49m\u001b[38;5;241;43m.\u001b[39;49m\u001b[43mrestore_from_path\u001b[49m\u001b[43m,\u001b[49m\u001b[43m \u001b[49m\u001b[43mconfig\u001b[49m\u001b[43m)\u001b[49m\n",
      "File \u001b[0;32m/usr/local/lib/python3.10/dist-packages/nemo/collections/nlp/parts/mixins/nlp_adapter_mixins.py:431\u001b[0m, in \u001b[0;36mNLPAdapterModelMixin.merge_cfg_with\u001b[0;34m(cls, path, cfg)\u001b[0m\n\u001b[1;32m    405\u001b[0m \u001b[38;5;129m@classmethod\u001b[39m\n\u001b[1;32m    406\u001b[0m \u001b[38;5;28;01mdef\u001b[39;00m \u001b[38;5;21mmerge_cfg_with\u001b[39m(\u001b[38;5;28mcls\u001b[39m, path: \u001b[38;5;28mstr\u001b[39m, cfg: DictConfig) \u001b[38;5;241m-\u001b[39m\u001b[38;5;241m>\u001b[39m DictConfig:\n\u001b[1;32m    407\u001b[0m \u001b[38;5;250m    \u001b[39m\u001b[38;5;124;03m\"\"\"\u001b[39;00m\n\u001b[1;32m    408\u001b[0m \u001b[38;5;124;03m    Merge a given configuration dictionary `cfg` with the configuration dictionary\u001b[39;00m\n\u001b[1;32m    409\u001b[0m \u001b[38;5;124;03m    obtained from restoring a MegatronGPTSFTModel or MegatronT5SFTModel at the specified `path`.\u001b[39;00m\n\u001b[0;32m   (...)\u001b[0m\n\u001b[1;32m    428\u001b[0m \n\u001b[1;32m    429\u001b[0m \u001b[38;5;124;03m    \"\"\"\u001b[39;00m\n\u001b[0;32m--> 431\u001b[0m     base_cfg \u001b[38;5;241m=\u001b[39m \u001b[38;5;28;43mcls\u001b[39;49m\u001b[38;5;241;43m.\u001b[39;49m\u001b[43mrestore_from\u001b[49m\u001b[43m(\u001b[49m\u001b[43mpath\u001b[49m\u001b[43m,\u001b[49m\u001b[43m \u001b[49m\u001b[43mreturn_config\u001b[49m\u001b[38;5;241;43m=\u001b[39;49m\u001b[38;5;28;43;01mTrue\u001b[39;49;00m\u001b[43m)\u001b[49m\n\u001b[1;32m    433\u001b[0m     OmegaConf\u001b[38;5;241m.\u001b[39mresolve(cfg)\n\u001b[1;32m    434\u001b[0m     \u001b[38;5;28;01mwith\u001b[39;00m open_dict(base_cfg):\n",
      "File \u001b[0;32m/usr/local/lib/python3.10/dist-packages/nemo/collections/nlp/models/nlp_model.py:465\u001b[0m, in \u001b[0;36mNLPModel.restore_from\u001b[0;34m(cls, restore_path, override_config_path, map_location, strict, return_config, save_restore_connector, trainer)\u001b[0m\n\u001b[1;32m    463\u001b[0m \u001b[38;5;28;01mif\u001b[39;00m os\u001b[38;5;241m.\u001b[39mpath\u001b[38;5;241m.\u001b[39misdir(restore_path):\n\u001b[1;32m    464\u001b[0m     save_restore_connector\u001b[38;5;241m.\u001b[39mmodel_extracted_dir \u001b[38;5;241m=\u001b[39m restore_path\n\u001b[0;32m--> 465\u001b[0m \u001b[38;5;28;01mreturn\u001b[39;00m \u001b[38;5;28;43msuper\u001b[39;49m\u001b[43m(\u001b[49m\u001b[43m)\u001b[49m\u001b[38;5;241;43m.\u001b[39;49m\u001b[43mrestore_from\u001b[49m\u001b[43m(\u001b[49m\n\u001b[1;32m    466\u001b[0m \u001b[43m    \u001b[49m\u001b[43mrestore_path\u001b[49m\u001b[43m,\u001b[49m\u001b[43m \u001b[49m\u001b[43moverride_config_path\u001b[49m\u001b[43m,\u001b[49m\u001b[43m \u001b[49m\u001b[43mmap_location\u001b[49m\u001b[43m,\u001b[49m\u001b[43m \u001b[49m\u001b[43mstrict\u001b[49m\u001b[43m,\u001b[49m\u001b[43m \u001b[49m\u001b[43mreturn_config\u001b[49m\u001b[43m,\u001b[49m\u001b[43m \u001b[49m\u001b[43msave_restore_connector\u001b[49m\u001b[43m,\u001b[49m\u001b[43m \u001b[49m\u001b[43mtrainer\u001b[49m\n\u001b[1;32m    467\u001b[0m \u001b[43m\u001b[49m\u001b[43m)\u001b[49m\n",
      "File \u001b[0;32m/usr/local/lib/python3.10/dist-packages/nemo/core/classes/modelPT.py:442\u001b[0m, in \u001b[0;36mModelPT.restore_from\u001b[0;34m(cls, restore_path, override_config_path, map_location, strict, return_config, save_restore_connector, trainer)\u001b[0m\n\u001b[1;32m    439\u001b[0m app_state\u001b[38;5;241m.\u001b[39mmodel_restore_path \u001b[38;5;241m=\u001b[39m restore_path\n\u001b[1;32m    441\u001b[0m \u001b[38;5;28mcls\u001b[39m\u001b[38;5;241m.\u001b[39mupdate_save_restore_connector(save_restore_connector)\n\u001b[0;32m--> 442\u001b[0m instance \u001b[38;5;241m=\u001b[39m \u001b[38;5;28;43mcls\u001b[39;49m\u001b[38;5;241;43m.\u001b[39;49m\u001b[43m_save_restore_connector\u001b[49m\u001b[38;5;241;43m.\u001b[39;49m\u001b[43mrestore_from\u001b[49m\u001b[43m(\u001b[49m\n\u001b[1;32m    443\u001b[0m \u001b[43m    \u001b[49m\u001b[38;5;28;43mcls\u001b[39;49m\u001b[43m,\u001b[49m\u001b[43m \u001b[49m\u001b[43mrestore_path\u001b[49m\u001b[43m,\u001b[49m\u001b[43m \u001b[49m\u001b[43moverride_config_path\u001b[49m\u001b[43m,\u001b[49m\u001b[43m \u001b[49m\u001b[43mmap_location\u001b[49m\u001b[43m,\u001b[49m\u001b[43m \u001b[49m\u001b[43mstrict\u001b[49m\u001b[43m,\u001b[49m\u001b[43m \u001b[49m\u001b[43mreturn_config\u001b[49m\u001b[43m,\u001b[49m\u001b[43m \u001b[49m\u001b[43mtrainer\u001b[49m\n\u001b[1;32m    444\u001b[0m \u001b[43m\u001b[49m\u001b[43m)\u001b[49m\n\u001b[1;32m    445\u001b[0m \u001b[38;5;28;01mif\u001b[39;00m \u001b[38;5;28misinstance\u001b[39m(instance, ModelPT):\n\u001b[1;32m    446\u001b[0m     instance\u001b[38;5;241m.\u001b[39m_save_restore_connector \u001b[38;5;241m=\u001b[39m save_restore_connector\n",
      "File \u001b[0;32m/usr/local/lib/python3.10/dist-packages/nemo/collections/nlp/parts/nlp_overrides.py:700\u001b[0m, in \u001b[0;36mNLPSaveRestoreConnector.restore_from\u001b[0;34m(self, calling_cls, restore_path, override_config_path, map_location, strict, return_config, trainer)\u001b[0m\n\u001b[1;32m    675\u001b[0m \u001b[38;5;250m\u001b[39m\u001b[38;5;124;03m\"\"\"\u001b[39;00m\n\u001b[1;32m    676\u001b[0m \u001b[38;5;124;03mRestores model instance (weights and configuration) into .nemo file\u001b[39;00m\n\u001b[1;32m    677\u001b[0m \n\u001b[0;32m   (...)\u001b[0m\n\u001b[1;32m    695\u001b[0m \u001b[38;5;124;03m    An instance of type cls or its underlying config (if return_config is set).\u001b[39;00m\n\u001b[1;32m    696\u001b[0m \u001b[38;5;124;03m\"\"\"\u001b[39;00m\n\u001b[1;32m    698\u001b[0m \u001b[38;5;66;03m# Get path where the command is executed - the artifacts will be \"retrieved\" there\u001b[39;00m\n\u001b[1;32m    699\u001b[0m \u001b[38;5;66;03m# (original .nemo behavior)\u001b[39;00m\n\u001b[0;32m--> 700\u001b[0m loaded_params \u001b[38;5;241m=\u001b[39m \u001b[38;5;28;43msuper\u001b[39;49m\u001b[43m(\u001b[49m\u001b[43m)\u001b[49m\u001b[38;5;241;43m.\u001b[39;49m\u001b[43mload_config_and_state_dict\u001b[49m\u001b[43m(\u001b[49m\n\u001b[1;32m    701\u001b[0m \u001b[43m    \u001b[49m\u001b[43mcalling_cls\u001b[49m\u001b[43m,\u001b[49m\u001b[43m \u001b[49m\u001b[43mrestore_path\u001b[49m\u001b[43m,\u001b[49m\u001b[43m \u001b[49m\u001b[43moverride_config_path\u001b[49m\u001b[43m,\u001b[49m\u001b[43m \u001b[49m\u001b[43mmap_location\u001b[49m\u001b[43m,\u001b[49m\u001b[43m \u001b[49m\u001b[43mstrict\u001b[49m\u001b[43m,\u001b[49m\u001b[43m \u001b[49m\u001b[43mreturn_config\u001b[49m\u001b[43m,\u001b[49m\u001b[43m \u001b[49m\u001b[43mtrainer\u001b[49m\u001b[43m,\u001b[49m\n\u001b[1;32m    702\u001b[0m \u001b[43m\u001b[49m\u001b[43m)\u001b[49m\n\u001b[1;32m    703\u001b[0m \u001b[38;5;28;01mif\u001b[39;00m \u001b[38;5;129;01mnot\u001b[39;00m \u001b[38;5;28misinstance\u001b[39m(loaded_params, \u001b[38;5;28mtuple\u001b[39m) \u001b[38;5;129;01mor\u001b[39;00m return_config \u001b[38;5;129;01mis\u001b[39;00m \u001b[38;5;28;01mTrue\u001b[39;00m:\n\u001b[1;32m    704\u001b[0m     \u001b[38;5;28;01mreturn\u001b[39;00m loaded_params\n",
      "File \u001b[0;32m/usr/local/lib/python3.10/dist-packages/nemo/core/connectors/save_restore_connector.py:129\u001b[0m, in \u001b[0;36mSaveRestoreConnector.load_config_and_state_dict\u001b[0;34m(self, calling_cls, restore_path, override_config_path, map_location, strict, return_config, trainer)\u001b[0m\n\u001b[1;32m    125\u001b[0m     tmpdir \u001b[38;5;241m=\u001b[39m \u001b[38;5;28mself\u001b[39m\u001b[38;5;241m.\u001b[39mmodel_extracted_dir\n\u001b[1;32m    127\u001b[0m \u001b[38;5;28;01melse\u001b[39;00m:\n\u001b[1;32m    128\u001b[0m     \u001b[38;5;66;03m# Extract the nemo file into the temporary directory\u001b[39;00m\n\u001b[0;32m--> 129\u001b[0m     \u001b[38;5;28;43mself\u001b[39;49m\u001b[38;5;241;43m.\u001b[39;49m\u001b[43m_unpack_nemo_file\u001b[49m\u001b[43m(\u001b[49m\n\u001b[1;32m    130\u001b[0m \u001b[43m        \u001b[49m\u001b[43mpath2file\u001b[49m\u001b[38;5;241;43m=\u001b[39;49m\u001b[43mrestore_path\u001b[49m\u001b[43m,\u001b[49m\u001b[43m \u001b[49m\u001b[43mout_folder\u001b[49m\u001b[38;5;241;43m=\u001b[39;49m\u001b[43mtmpdir\u001b[49m\u001b[43m,\u001b[49m\u001b[43m \u001b[49m\u001b[43mextract_config_only\u001b[49m\u001b[38;5;241;43m=\u001b[39;49m\u001b[43mreturn_config\u001b[49m\u001b[43m \u001b[49m\u001b[38;5;129;43;01mis\u001b[39;49;00m\u001b[43m \u001b[49m\u001b[38;5;28;43;01mTrue\u001b[39;49;00m\n\u001b[1;32m    131\u001b[0m \u001b[43m    \u001b[49m\u001b[43m)\u001b[49m\n\u001b[1;32m    133\u001b[0m \u001b[38;5;66;03m# Change current working directory to\u001b[39;00m\n\u001b[1;32m    134\u001b[0m os\u001b[38;5;241m.\u001b[39mchdir(tmpdir)\n",
      "File \u001b[0;32m/usr/local/lib/python3.10/dist-packages/nemo/core/connectors/save_restore_connector.py:560\u001b[0m, in \u001b[0;36mSaveRestoreConnector._unpack_nemo_file\u001b[0;34m(path2file, out_folder, extract_config_only)\u001b[0m\n\u001b[1;32m    558\u001b[0m     tar\u001b[38;5;241m.\u001b[39mextractall(path\u001b[38;5;241m=\u001b[39mout_folder)\n\u001b[1;32m    559\u001b[0m \u001b[38;5;28;01melse\u001b[39;00m:\n\u001b[0;32m--> 560\u001b[0m     members \u001b[38;5;241m=\u001b[39m [x \u001b[38;5;28;01mfor\u001b[39;00m x \u001b[38;5;129;01min\u001b[39;00m \u001b[43mtar\u001b[49m\u001b[38;5;241;43m.\u001b[39;49m\u001b[43mgetmembers\u001b[49m\u001b[43m(\u001b[49m\u001b[43m)\u001b[49m \u001b[38;5;28;01mif\u001b[39;00m \u001b[38;5;124m\"\u001b[39m\u001b[38;5;124m.yaml\u001b[39m\u001b[38;5;124m\"\u001b[39m \u001b[38;5;129;01min\u001b[39;00m x\u001b[38;5;241m.\u001b[39mname]\n\u001b[1;32m    561\u001b[0m     tar\u001b[38;5;241m.\u001b[39mextractall(path\u001b[38;5;241m=\u001b[39mout_folder, members\u001b[38;5;241m=\u001b[39mmembers)\n\u001b[1;32m    562\u001b[0m tar\u001b[38;5;241m.\u001b[39mclose()\n",
      "File \u001b[0;32m/usr/lib/python3.10/tarfile.py:1987\u001b[0m, in \u001b[0;36mTarFile.getmembers\u001b[0;34m(self)\u001b[0m\n\u001b[1;32m   1985\u001b[0m \u001b[38;5;28mself\u001b[39m\u001b[38;5;241m.\u001b[39m_check()\n\u001b[1;32m   1986\u001b[0m \u001b[38;5;28;01mif\u001b[39;00m \u001b[38;5;129;01mnot\u001b[39;00m \u001b[38;5;28mself\u001b[39m\u001b[38;5;241m.\u001b[39m_loaded:    \u001b[38;5;66;03m# if we want to obtain a list of\u001b[39;00m\n\u001b[0;32m-> 1987\u001b[0m     \u001b[38;5;28;43mself\u001b[39;49m\u001b[38;5;241;43m.\u001b[39;49m\u001b[43m_load\u001b[49m\u001b[43m(\u001b[49m\u001b[43m)\u001b[49m        \u001b[38;5;66;03m# all members, we first have to\u001b[39;00m\n\u001b[1;32m   1988\u001b[0m                         \u001b[38;5;66;03m# scan the whole archive.\u001b[39;00m\n\u001b[1;32m   1989\u001b[0m \u001b[38;5;28;01mreturn\u001b[39;00m \u001b[38;5;28mself\u001b[39m\u001b[38;5;241m.\u001b[39mmembers\n",
      "File \u001b[0;32m/usr/lib/python3.10/tarfile.py:2682\u001b[0m, in \u001b[0;36mTarFile._load\u001b[0;34m(self)\u001b[0m\n\u001b[1;32m   2678\u001b[0m \u001b[38;5;250m\u001b[39m\u001b[38;5;124;03m\"\"\"Read through the entire archive file and look for readable\u001b[39;00m\n\u001b[1;32m   2679\u001b[0m \u001b[38;5;124;03m   members.\u001b[39;00m\n\u001b[1;32m   2680\u001b[0m \u001b[38;5;124;03m\"\"\"\u001b[39;00m\n\u001b[1;32m   2681\u001b[0m \u001b[38;5;28;01mwhile\u001b[39;00m \u001b[38;5;28;01mTrue\u001b[39;00m:\n\u001b[0;32m-> 2682\u001b[0m     tarinfo \u001b[38;5;241m=\u001b[39m \u001b[38;5;28;43mself\u001b[39;49m\u001b[38;5;241;43m.\u001b[39;49m\u001b[43mnext\u001b[49m\u001b[43m(\u001b[49m\u001b[43m)\u001b[49m\n\u001b[1;32m   2683\u001b[0m     \u001b[38;5;28;01mif\u001b[39;00m tarinfo \u001b[38;5;129;01mis\u001b[39;00m \u001b[38;5;28;01mNone\u001b[39;00m:\n\u001b[1;32m   2684\u001b[0m         \u001b[38;5;28;01mbreak\u001b[39;00m\n",
      "File \u001b[0;32m/usr/lib/python3.10/tarfile.py:2589\u001b[0m, in \u001b[0;36mTarFile.next\u001b[0;34m(self)\u001b[0m\n\u001b[1;32m   2587\u001b[0m     \u001b[38;5;28mself\u001b[39m\u001b[38;5;241m.\u001b[39mfileobj\u001b[38;5;241m.\u001b[39mseek(\u001b[38;5;28mself\u001b[39m\u001b[38;5;241m.\u001b[39moffset \u001b[38;5;241m-\u001b[39m \u001b[38;5;241m1\u001b[39m)\n\u001b[1;32m   2588\u001b[0m     \u001b[38;5;28;01mif\u001b[39;00m \u001b[38;5;129;01mnot\u001b[39;00m \u001b[38;5;28mself\u001b[39m\u001b[38;5;241m.\u001b[39mfileobj\u001b[38;5;241m.\u001b[39mread(\u001b[38;5;241m1\u001b[39m):\n\u001b[0;32m-> 2589\u001b[0m         \u001b[38;5;28;01mraise\u001b[39;00m ReadError(\u001b[38;5;124m\"\u001b[39m\u001b[38;5;124munexpected end of data\u001b[39m\u001b[38;5;124m\"\u001b[39m)\n\u001b[1;32m   2591\u001b[0m \u001b[38;5;66;03m# Read the next block.\u001b[39;00m\n\u001b[1;32m   2592\u001b[0m tarinfo \u001b[38;5;241m=\u001b[39m \u001b[38;5;28;01mNone\u001b[39;00m\n",
      "\u001b[0;31mReadError\u001b[0m: unexpected end of data"
     ]
    }
   ],
   "source": [
    "from nemo.collections.nlp.models.language_modeling.megatron_gpt_sft_model import MegatronGPTSFTModel\n",
    "\n",
    "model_cfg = MegatronGPTSFTModel.merge_cfg_with(config.model.restore_from_path, config)"
   ]
  },
  {
   "cell_type": "code",
   "execution_count": 24,
   "id": "ed0b58d7-d6ae-4c08-b230-4a11b7d15ee3",
   "metadata": {
    "tags": []
   },
   "outputs": [],
   "source": [
    "model_cfg = config"
   ]
  },
  {
   "cell_type": "markdown",
   "id": "dfc55a1c",
   "metadata": {},
   "source": [
    "Next, we instantiate the GPT model class and add the LoRA adapter\n",
    "When we call `add_adapter`, the model prints out the parameter count before and after the operation. We can clearly see the number of trainable parameters increase after adding the adapter.\n",
    "To print the parameter count manually, we can call `model.summarize()`."
   ]
  },
  {
   "cell_type": "code",
   "execution_count": 25,
   "id": "a81d8741",
   "metadata": {
    "tags": []
   },
   "outputs": [
    {
     "ename": "OSError",
     "evalue": "[Errno 28] No space left on device",
     "output_type": "error",
     "traceback": [
      "\u001b[0;31m---------------------------------------------------------------------------\u001b[0m",
      "\u001b[0;31mOSError\u001b[0m                                   Traceback (most recent call last)",
      "File \u001b[0;32m/usr/lib/python3.10/tarfile.py:2456\u001b[0m, in \u001b[0;36mTarFile.makefile\u001b[0;34m(self, tarinfo, targetpath)\u001b[0m\n\u001b[1;32m   2455\u001b[0m \u001b[38;5;28;01melse\u001b[39;00m:\n\u001b[0;32m-> 2456\u001b[0m     \u001b[43mcopyfileobj\u001b[49m\u001b[43m(\u001b[49m\u001b[43msource\u001b[49m\u001b[43m,\u001b[49m\u001b[43m \u001b[49m\u001b[43mtarget\u001b[49m\u001b[43m,\u001b[49m\u001b[43m \u001b[49m\u001b[43mtarinfo\u001b[49m\u001b[38;5;241;43m.\u001b[39;49m\u001b[43msize\u001b[49m\u001b[43m,\u001b[49m\u001b[43m \u001b[49m\u001b[43mReadError\u001b[49m\u001b[43m,\u001b[49m\u001b[43m \u001b[49m\u001b[43mbufsize\u001b[49m\u001b[43m)\u001b[49m\n",
      "File \u001b[0;32m/usr/lib/python3.10/tarfile.py:255\u001b[0m, in \u001b[0;36mcopyfileobj\u001b[0;34m(src, dst, length, exception, bufsize)\u001b[0m\n\u001b[1;32m    254\u001b[0m         \u001b[38;5;28;01mraise\u001b[39;00m exception(\u001b[38;5;124m\"\u001b[39m\u001b[38;5;124munexpected end of data\u001b[39m\u001b[38;5;124m\"\u001b[39m)\n\u001b[0;32m--> 255\u001b[0m     \u001b[43mdst\u001b[49m\u001b[38;5;241;43m.\u001b[39;49m\u001b[43mwrite\u001b[49m\u001b[43m(\u001b[49m\u001b[43mbuf\u001b[49m\u001b[43m)\u001b[49m\n\u001b[1;32m    257\u001b[0m \u001b[38;5;28;01mif\u001b[39;00m remainder \u001b[38;5;241m!=\u001b[39m \u001b[38;5;241m0\u001b[39m:\n",
      "\u001b[0;31mOSError\u001b[0m: [Errno 28] No space left on device",
      "\nDuring handling of the above exception, another exception occurred:\n",
      "\u001b[0;31mOSError\u001b[0m                                   Traceback (most recent call last)",
      "Cell \u001b[0;32mIn[25], line 3\u001b[0m\n\u001b[1;32m      1\u001b[0m \u001b[38;5;28;01mfrom\u001b[39;00m \u001b[38;5;21;01mnemo\u001b[39;00m\u001b[38;5;21;01m.\u001b[39;00m\u001b[38;5;21;01mcollections\u001b[39;00m\u001b[38;5;21;01m.\u001b[39;00m\u001b[38;5;21;01mnlp\u001b[39;00m\u001b[38;5;21;01m.\u001b[39;00m\u001b[38;5;21;01mparts\u001b[39;00m\u001b[38;5;21;01m.\u001b[39;00m\u001b[38;5;21;01mpeft_config\u001b[39;00m \u001b[38;5;28;01mimport\u001b[39;00m LoraPEFTConfig\n\u001b[0;32m----> 3\u001b[0m model \u001b[38;5;241m=\u001b[39m \u001b[43mMegatronGPTSFTModel\u001b[49m\u001b[38;5;241;43m.\u001b[39;49m\u001b[43mrestore_from\u001b[49m\u001b[43m(\u001b[49m\u001b[43mconfig\u001b[49m\u001b[38;5;241;43m.\u001b[39;49m\u001b[43mmodel\u001b[49m\u001b[38;5;241;43m.\u001b[39;49m\u001b[43mrestore_from_path\u001b[49m\u001b[43m,\u001b[49m\u001b[43m \u001b[49m\u001b[43mmodel_cfg\u001b[49m\u001b[43m,\u001b[49m\u001b[43m \u001b[49m\u001b[43mtrainer\u001b[49m\u001b[38;5;241;43m=\u001b[39;49m\u001b[43mtrainer\u001b[49m\u001b[43m)\u001b[49m\n\u001b[1;32m      4\u001b[0m model\u001b[38;5;241m.\u001b[39madd_adapter(LoraPEFTConfig(model_cfg))\n\u001b[1;32m      5\u001b[0m \u001b[38;5;66;03m# print(\"Parameter count manually:\\n\", model.summarize())\u001b[39;00m\n",
      "File \u001b[0;32m/usr/local/lib/python3.10/dist-packages/nemo/collections/nlp/models/nlp_model.py:465\u001b[0m, in \u001b[0;36mNLPModel.restore_from\u001b[0;34m(cls, restore_path, override_config_path, map_location, strict, return_config, save_restore_connector, trainer)\u001b[0m\n\u001b[1;32m    463\u001b[0m \u001b[38;5;28;01mif\u001b[39;00m os\u001b[38;5;241m.\u001b[39mpath\u001b[38;5;241m.\u001b[39misdir(restore_path):\n\u001b[1;32m    464\u001b[0m     save_restore_connector\u001b[38;5;241m.\u001b[39mmodel_extracted_dir \u001b[38;5;241m=\u001b[39m restore_path\n\u001b[0;32m--> 465\u001b[0m \u001b[38;5;28;01mreturn\u001b[39;00m \u001b[38;5;28;43msuper\u001b[39;49m\u001b[43m(\u001b[49m\u001b[43m)\u001b[49m\u001b[38;5;241;43m.\u001b[39;49m\u001b[43mrestore_from\u001b[49m\u001b[43m(\u001b[49m\n\u001b[1;32m    466\u001b[0m \u001b[43m    \u001b[49m\u001b[43mrestore_path\u001b[49m\u001b[43m,\u001b[49m\u001b[43m \u001b[49m\u001b[43moverride_config_path\u001b[49m\u001b[43m,\u001b[49m\u001b[43m \u001b[49m\u001b[43mmap_location\u001b[49m\u001b[43m,\u001b[49m\u001b[43m \u001b[49m\u001b[43mstrict\u001b[49m\u001b[43m,\u001b[49m\u001b[43m \u001b[49m\u001b[43mreturn_config\u001b[49m\u001b[43m,\u001b[49m\u001b[43m \u001b[49m\u001b[43msave_restore_connector\u001b[49m\u001b[43m,\u001b[49m\u001b[43m \u001b[49m\u001b[43mtrainer\u001b[49m\n\u001b[1;32m    467\u001b[0m \u001b[43m\u001b[49m\u001b[43m)\u001b[49m\n",
      "File \u001b[0;32m/usr/local/lib/python3.10/dist-packages/nemo/core/classes/modelPT.py:442\u001b[0m, in \u001b[0;36mModelPT.restore_from\u001b[0;34m(cls, restore_path, override_config_path, map_location, strict, return_config, save_restore_connector, trainer)\u001b[0m\n\u001b[1;32m    439\u001b[0m app_state\u001b[38;5;241m.\u001b[39mmodel_restore_path \u001b[38;5;241m=\u001b[39m restore_path\n\u001b[1;32m    441\u001b[0m \u001b[38;5;28mcls\u001b[39m\u001b[38;5;241m.\u001b[39mupdate_save_restore_connector(save_restore_connector)\n\u001b[0;32m--> 442\u001b[0m instance \u001b[38;5;241m=\u001b[39m \u001b[38;5;28;43mcls\u001b[39;49m\u001b[38;5;241;43m.\u001b[39;49m\u001b[43m_save_restore_connector\u001b[49m\u001b[38;5;241;43m.\u001b[39;49m\u001b[43mrestore_from\u001b[49m\u001b[43m(\u001b[49m\n\u001b[1;32m    443\u001b[0m \u001b[43m    \u001b[49m\u001b[38;5;28;43mcls\u001b[39;49m\u001b[43m,\u001b[49m\u001b[43m \u001b[49m\u001b[43mrestore_path\u001b[49m\u001b[43m,\u001b[49m\u001b[43m \u001b[49m\u001b[43moverride_config_path\u001b[49m\u001b[43m,\u001b[49m\u001b[43m \u001b[49m\u001b[43mmap_location\u001b[49m\u001b[43m,\u001b[49m\u001b[43m \u001b[49m\u001b[43mstrict\u001b[49m\u001b[43m,\u001b[49m\u001b[43m \u001b[49m\u001b[43mreturn_config\u001b[49m\u001b[43m,\u001b[49m\u001b[43m \u001b[49m\u001b[43mtrainer\u001b[49m\n\u001b[1;32m    444\u001b[0m \u001b[43m\u001b[49m\u001b[43m)\u001b[49m\n\u001b[1;32m    445\u001b[0m \u001b[38;5;28;01mif\u001b[39;00m \u001b[38;5;28misinstance\u001b[39m(instance, ModelPT):\n\u001b[1;32m    446\u001b[0m     instance\u001b[38;5;241m.\u001b[39m_save_restore_connector \u001b[38;5;241m=\u001b[39m save_restore_connector\n",
      "File \u001b[0;32m/usr/local/lib/python3.10/dist-packages/nemo/collections/nlp/parts/nlp_overrides.py:700\u001b[0m, in \u001b[0;36mNLPSaveRestoreConnector.restore_from\u001b[0;34m(self, calling_cls, restore_path, override_config_path, map_location, strict, return_config, trainer)\u001b[0m\n\u001b[1;32m    675\u001b[0m \u001b[38;5;250m\u001b[39m\u001b[38;5;124;03m\"\"\"\u001b[39;00m\n\u001b[1;32m    676\u001b[0m \u001b[38;5;124;03mRestores model instance (weights and configuration) into .nemo file\u001b[39;00m\n\u001b[1;32m    677\u001b[0m \n\u001b[0;32m   (...)\u001b[0m\n\u001b[1;32m    695\u001b[0m \u001b[38;5;124;03m    An instance of type cls or its underlying config (if return_config is set).\u001b[39;00m\n\u001b[1;32m    696\u001b[0m \u001b[38;5;124;03m\"\"\"\u001b[39;00m\n\u001b[1;32m    698\u001b[0m \u001b[38;5;66;03m# Get path where the command is executed - the artifacts will be \"retrieved\" there\u001b[39;00m\n\u001b[1;32m    699\u001b[0m \u001b[38;5;66;03m# (original .nemo behavior)\u001b[39;00m\n\u001b[0;32m--> 700\u001b[0m loaded_params \u001b[38;5;241m=\u001b[39m \u001b[38;5;28;43msuper\u001b[39;49m\u001b[43m(\u001b[49m\u001b[43m)\u001b[49m\u001b[38;5;241;43m.\u001b[39;49m\u001b[43mload_config_and_state_dict\u001b[49m\u001b[43m(\u001b[49m\n\u001b[1;32m    701\u001b[0m \u001b[43m    \u001b[49m\u001b[43mcalling_cls\u001b[49m\u001b[43m,\u001b[49m\u001b[43m \u001b[49m\u001b[43mrestore_path\u001b[49m\u001b[43m,\u001b[49m\u001b[43m \u001b[49m\u001b[43moverride_config_path\u001b[49m\u001b[43m,\u001b[49m\u001b[43m \u001b[49m\u001b[43mmap_location\u001b[49m\u001b[43m,\u001b[49m\u001b[43m \u001b[49m\u001b[43mstrict\u001b[49m\u001b[43m,\u001b[49m\u001b[43m \u001b[49m\u001b[43mreturn_config\u001b[49m\u001b[43m,\u001b[49m\u001b[43m \u001b[49m\u001b[43mtrainer\u001b[49m\u001b[43m,\u001b[49m\n\u001b[1;32m    702\u001b[0m \u001b[43m\u001b[49m\u001b[43m)\u001b[49m\n\u001b[1;32m    703\u001b[0m \u001b[38;5;28;01mif\u001b[39;00m \u001b[38;5;129;01mnot\u001b[39;00m \u001b[38;5;28misinstance\u001b[39m(loaded_params, \u001b[38;5;28mtuple\u001b[39m) \u001b[38;5;129;01mor\u001b[39;00m return_config \u001b[38;5;129;01mis\u001b[39;00m \u001b[38;5;28;01mTrue\u001b[39;00m:\n\u001b[1;32m    704\u001b[0m     \u001b[38;5;28;01mreturn\u001b[39;00m loaded_params\n",
      "File \u001b[0;32m/usr/local/lib/python3.10/dist-packages/nemo/core/connectors/save_restore_connector.py:129\u001b[0m, in \u001b[0;36mSaveRestoreConnector.load_config_and_state_dict\u001b[0;34m(self, calling_cls, restore_path, override_config_path, map_location, strict, return_config, trainer)\u001b[0m\n\u001b[1;32m    125\u001b[0m     tmpdir \u001b[38;5;241m=\u001b[39m \u001b[38;5;28mself\u001b[39m\u001b[38;5;241m.\u001b[39mmodel_extracted_dir\n\u001b[1;32m    127\u001b[0m \u001b[38;5;28;01melse\u001b[39;00m:\n\u001b[1;32m    128\u001b[0m     \u001b[38;5;66;03m# Extract the nemo file into the temporary directory\u001b[39;00m\n\u001b[0;32m--> 129\u001b[0m     \u001b[38;5;28;43mself\u001b[39;49m\u001b[38;5;241;43m.\u001b[39;49m\u001b[43m_unpack_nemo_file\u001b[49m\u001b[43m(\u001b[49m\n\u001b[1;32m    130\u001b[0m \u001b[43m        \u001b[49m\u001b[43mpath2file\u001b[49m\u001b[38;5;241;43m=\u001b[39;49m\u001b[43mrestore_path\u001b[49m\u001b[43m,\u001b[49m\u001b[43m \u001b[49m\u001b[43mout_folder\u001b[49m\u001b[38;5;241;43m=\u001b[39;49m\u001b[43mtmpdir\u001b[49m\u001b[43m,\u001b[49m\u001b[43m \u001b[49m\u001b[43mextract_config_only\u001b[49m\u001b[38;5;241;43m=\u001b[39;49m\u001b[43mreturn_config\u001b[49m\u001b[43m \u001b[49m\u001b[38;5;129;43;01mis\u001b[39;49;00m\u001b[43m \u001b[49m\u001b[38;5;28;43;01mTrue\u001b[39;49;00m\n\u001b[1;32m    131\u001b[0m \u001b[43m    \u001b[49m\u001b[43m)\u001b[49m\n\u001b[1;32m    133\u001b[0m \u001b[38;5;66;03m# Change current working directory to\u001b[39;00m\n\u001b[1;32m    134\u001b[0m os\u001b[38;5;241m.\u001b[39mchdir(tmpdir)\n",
      "File \u001b[0;32m/usr/local/lib/python3.10/dist-packages/nemo/core/connectors/save_restore_connector.py:558\u001b[0m, in \u001b[0;36mSaveRestoreConnector._unpack_nemo_file\u001b[0;34m(path2file, out_folder, extract_config_only)\u001b[0m\n\u001b[1;32m    556\u001b[0m tar \u001b[38;5;241m=\u001b[39m tarfile\u001b[38;5;241m.\u001b[39mopen(path2file, tar_header)\n\u001b[1;32m    557\u001b[0m \u001b[38;5;28;01mif\u001b[39;00m \u001b[38;5;129;01mnot\u001b[39;00m extract_config_only:\n\u001b[0;32m--> 558\u001b[0m     \u001b[43mtar\u001b[49m\u001b[38;5;241;43m.\u001b[39;49m\u001b[43mextractall\u001b[49m\u001b[43m(\u001b[49m\u001b[43mpath\u001b[49m\u001b[38;5;241;43m=\u001b[39;49m\u001b[43mout_folder\u001b[49m\u001b[43m)\u001b[49m\n\u001b[1;32m    559\u001b[0m \u001b[38;5;28;01melse\u001b[39;00m:\n\u001b[1;32m    560\u001b[0m     members \u001b[38;5;241m=\u001b[39m [x \u001b[38;5;28;01mfor\u001b[39;00m x \u001b[38;5;129;01min\u001b[39;00m tar\u001b[38;5;241m.\u001b[39mgetmembers() \u001b[38;5;28;01mif\u001b[39;00m \u001b[38;5;124m\"\u001b[39m\u001b[38;5;124m.yaml\u001b[39m\u001b[38;5;124m\"\u001b[39m \u001b[38;5;129;01min\u001b[39;00m x\u001b[38;5;241m.\u001b[39mname]\n",
      "File \u001b[0;32m/usr/lib/python3.10/tarfile.py:2257\u001b[0m, in \u001b[0;36mTarFile.extractall\u001b[0;34m(self, path, members, numeric_owner, filter)\u001b[0m\n\u001b[1;32m   2252\u001b[0m     \u001b[38;5;28;01mif\u001b[39;00m tarinfo\u001b[38;5;241m.\u001b[39misdir():\n\u001b[1;32m   2253\u001b[0m         \u001b[38;5;66;03m# For directories, delay setting attributes until later,\u001b[39;00m\n\u001b[1;32m   2254\u001b[0m         \u001b[38;5;66;03m# since permissions can interfere with extraction and\u001b[39;00m\n\u001b[1;32m   2255\u001b[0m         \u001b[38;5;66;03m# extracting contents can reset mtime.\u001b[39;00m\n\u001b[1;32m   2256\u001b[0m         directories\u001b[38;5;241m.\u001b[39mappend(tarinfo)\n\u001b[0;32m-> 2257\u001b[0m     \u001b[38;5;28;43mself\u001b[39;49m\u001b[38;5;241;43m.\u001b[39;49m\u001b[43m_extract_one\u001b[49m\u001b[43m(\u001b[49m\u001b[43mtarinfo\u001b[49m\u001b[43m,\u001b[49m\u001b[43m \u001b[49m\u001b[43mpath\u001b[49m\u001b[43m,\u001b[49m\u001b[43m \u001b[49m\u001b[43mset_attrs\u001b[49m\u001b[38;5;241;43m=\u001b[39;49m\u001b[38;5;129;43;01mnot\u001b[39;49;00m\u001b[43m \u001b[49m\u001b[43mtarinfo\u001b[49m\u001b[38;5;241;43m.\u001b[39;49m\u001b[43misdir\u001b[49m\u001b[43m(\u001b[49m\u001b[43m)\u001b[49m\u001b[43m,\u001b[49m\n\u001b[1;32m   2258\u001b[0m \u001b[43m                      \u001b[49m\u001b[43mnumeric_owner\u001b[49m\u001b[38;5;241;43m=\u001b[39;49m\u001b[43mnumeric_owner\u001b[49m\u001b[43m)\u001b[49m\n\u001b[1;32m   2260\u001b[0m \u001b[38;5;66;03m# Reverse sort directories.\u001b[39;00m\n\u001b[1;32m   2261\u001b[0m directories\u001b[38;5;241m.\u001b[39msort(key\u001b[38;5;241m=\u001b[39m\u001b[38;5;28;01mlambda\u001b[39;00m a: a\u001b[38;5;241m.\u001b[39mname, reverse\u001b[38;5;241m=\u001b[39m\u001b[38;5;28;01mTrue\u001b[39;00m)\n",
      "File \u001b[0;32m/usr/lib/python3.10/tarfile.py:2324\u001b[0m, in \u001b[0;36mTarFile._extract_one\u001b[0;34m(self, tarinfo, path, set_attrs, numeric_owner)\u001b[0m\n\u001b[1;32m   2320\u001b[0m     \u001b[38;5;28mself\u001b[39m\u001b[38;5;241m.\u001b[39m_extract_member(tarinfo, os\u001b[38;5;241m.\u001b[39mpath\u001b[38;5;241m.\u001b[39mjoin(path, tarinfo\u001b[38;5;241m.\u001b[39mname),\n\u001b[1;32m   2321\u001b[0m                          set_attrs\u001b[38;5;241m=\u001b[39mset_attrs,\n\u001b[1;32m   2322\u001b[0m                          numeric_owner\u001b[38;5;241m=\u001b[39mnumeric_owner)\n\u001b[1;32m   2323\u001b[0m \u001b[38;5;28;01mexcept\u001b[39;00m \u001b[38;5;167;01mOSError\u001b[39;00m \u001b[38;5;28;01mas\u001b[39;00m e:\n\u001b[0;32m-> 2324\u001b[0m     \u001b[38;5;28;43mself\u001b[39;49m\u001b[38;5;241;43m.\u001b[39;49m\u001b[43m_handle_fatal_error\u001b[49m\u001b[43m(\u001b[49m\u001b[43me\u001b[49m\u001b[43m)\u001b[49m\n\u001b[1;32m   2325\u001b[0m \u001b[38;5;28;01mexcept\u001b[39;00m ExtractError \u001b[38;5;28;01mas\u001b[39;00m e:\n\u001b[1;32m   2326\u001b[0m     \u001b[38;5;28mself\u001b[39m\u001b[38;5;241m.\u001b[39m_handle_nonfatal_error(e)\n",
      "File \u001b[0;32m/usr/lib/python3.10/tarfile.py:2320\u001b[0m, in \u001b[0;36mTarFile._extract_one\u001b[0;34m(self, tarinfo, path, set_attrs, numeric_owner)\u001b[0m\n\u001b[1;32m   2317\u001b[0m \u001b[38;5;28mself\u001b[39m\u001b[38;5;241m.\u001b[39m_check(\u001b[38;5;124m\"\u001b[39m\u001b[38;5;124mr\u001b[39m\u001b[38;5;124m\"\u001b[39m)\n\u001b[1;32m   2319\u001b[0m \u001b[38;5;28;01mtry\u001b[39;00m:\n\u001b[0;32m-> 2320\u001b[0m     \u001b[38;5;28;43mself\u001b[39;49m\u001b[38;5;241;43m.\u001b[39;49m\u001b[43m_extract_member\u001b[49m\u001b[43m(\u001b[49m\u001b[43mtarinfo\u001b[49m\u001b[43m,\u001b[49m\u001b[43m \u001b[49m\u001b[43mos\u001b[49m\u001b[38;5;241;43m.\u001b[39;49m\u001b[43mpath\u001b[49m\u001b[38;5;241;43m.\u001b[39;49m\u001b[43mjoin\u001b[49m\u001b[43m(\u001b[49m\u001b[43mpath\u001b[49m\u001b[43m,\u001b[49m\u001b[43m \u001b[49m\u001b[43mtarinfo\u001b[49m\u001b[38;5;241;43m.\u001b[39;49m\u001b[43mname\u001b[49m\u001b[43m)\u001b[49m\u001b[43m,\u001b[49m\n\u001b[1;32m   2321\u001b[0m \u001b[43m                         \u001b[49m\u001b[43mset_attrs\u001b[49m\u001b[38;5;241;43m=\u001b[39;49m\u001b[43mset_attrs\u001b[49m\u001b[43m,\u001b[49m\n\u001b[1;32m   2322\u001b[0m \u001b[43m                         \u001b[49m\u001b[43mnumeric_owner\u001b[49m\u001b[38;5;241;43m=\u001b[39;49m\u001b[43mnumeric_owner\u001b[49m\u001b[43m)\u001b[49m\n\u001b[1;32m   2323\u001b[0m \u001b[38;5;28;01mexcept\u001b[39;00m \u001b[38;5;167;01mOSError\u001b[39;00m \u001b[38;5;28;01mas\u001b[39;00m e:\n\u001b[1;32m   2324\u001b[0m     \u001b[38;5;28mself\u001b[39m\u001b[38;5;241m.\u001b[39m_handle_fatal_error(e)\n",
      "File \u001b[0;32m/usr/lib/python3.10/tarfile.py:2403\u001b[0m, in \u001b[0;36mTarFile._extract_member\u001b[0;34m(self, tarinfo, targetpath, set_attrs, numeric_owner)\u001b[0m\n\u001b[1;32m   2400\u001b[0m     \u001b[38;5;28mself\u001b[39m\u001b[38;5;241m.\u001b[39m_dbg(\u001b[38;5;241m1\u001b[39m, tarinfo\u001b[38;5;241m.\u001b[39mname)\n\u001b[1;32m   2402\u001b[0m \u001b[38;5;28;01mif\u001b[39;00m tarinfo\u001b[38;5;241m.\u001b[39misreg():\n\u001b[0;32m-> 2403\u001b[0m     \u001b[38;5;28;43mself\u001b[39;49m\u001b[38;5;241;43m.\u001b[39;49m\u001b[43mmakefile\u001b[49m\u001b[43m(\u001b[49m\u001b[43mtarinfo\u001b[49m\u001b[43m,\u001b[49m\u001b[43m \u001b[49m\u001b[43mtargetpath\u001b[49m\u001b[43m)\u001b[49m\n\u001b[1;32m   2404\u001b[0m \u001b[38;5;28;01melif\u001b[39;00m tarinfo\u001b[38;5;241m.\u001b[39misdir():\n\u001b[1;32m   2405\u001b[0m     \u001b[38;5;28mself\u001b[39m\u001b[38;5;241m.\u001b[39mmakedir(tarinfo, targetpath)\n",
      "File \u001b[0;32m/usr/lib/python3.10/tarfile.py:2448\u001b[0m, in \u001b[0;36mTarFile.makefile\u001b[0;34m(self, tarinfo, targetpath)\u001b[0m\n\u001b[1;32m   2446\u001b[0m source\u001b[38;5;241m.\u001b[39mseek(tarinfo\u001b[38;5;241m.\u001b[39moffset_data)\n\u001b[1;32m   2447\u001b[0m bufsize \u001b[38;5;241m=\u001b[39m \u001b[38;5;28mself\u001b[39m\u001b[38;5;241m.\u001b[39mcopybufsize\n\u001b[0;32m-> 2448\u001b[0m \u001b[38;5;28;01mwith\u001b[39;00m bltn_open(targetpath, \u001b[38;5;124m\"\u001b[39m\u001b[38;5;124mwb\u001b[39m\u001b[38;5;124m\"\u001b[39m) \u001b[38;5;28;01mas\u001b[39;00m target:\n\u001b[1;32m   2449\u001b[0m     \u001b[38;5;28;01mif\u001b[39;00m tarinfo\u001b[38;5;241m.\u001b[39msparse \u001b[38;5;129;01mis\u001b[39;00m \u001b[38;5;129;01mnot\u001b[39;00m \u001b[38;5;28;01mNone\u001b[39;00m:\n\u001b[1;32m   2450\u001b[0m         \u001b[38;5;28;01mfor\u001b[39;00m offset, size \u001b[38;5;129;01min\u001b[39;00m tarinfo\u001b[38;5;241m.\u001b[39msparse:\n",
      "\u001b[0;31mOSError\u001b[0m: [Errno 28] No space left on device"
     ]
    }
   ],
   "source": [
    "from nemo.collections.nlp.parts.peft_config import LoraPEFTConfig\n",
    "\n",
    "model = MegatronGPTSFTModel.restore_from(config.model.restore_from_path, model_cfg, trainer=trainer)\n",
    "model.add_adapter(LoraPEFTConfig(model_cfg))\n",
    "# print(\"Parameter count manually:\\n\", model.summarize())"
   ]
  },
  {
   "cell_type": "markdown",
   "id": "9711e509",
   "metadata": {},
   "source": [
    "Simply substitute with the `MegatronT5SFTModel` class to use T5 instead of GPT.\n",
    "\n",
    "To use a different PEFT method, you can use a different config class in place of `LoraPEFTConfig`, such as `CanonicalAdaptersPEFTConfig`, `IA3PEFTConfig`, `PtuningPEFTConfig`. You can also use a combination of the methods by passing in a list:\n",
    "`model.add_adapter([LoraPEFTConfig(model_cfg), PtuningPEFTConfig(model_cfg)])`\n",
    "\n",
    "We're now ready to start training."
   ]
  },
  {
   "cell_type": "code",
   "execution_count": null,
   "id": "2d99f433",
   "metadata": {
    "scrolled": true,
    "tags": []
   },
   "outputs": [],
   "source": [
    "trainer.fit(model)"
   ]
  },
  {
   "cell_type": "markdown",
   "id": "b8210d6d",
   "metadata": {},
   "source": [
    "Once training is completed you should see a saved '.nemo' file in this folder `{config.exp_manager.explicit_log_dir}/checkpoints`. This checkpoint will only contain the trained adapter weights, and not the frozen base model weights."
   ]
  },
  {
   "cell_type": "code",
   "execution_count": null,
   "id": "e4e19e65",
   "metadata": {
    "tags": []
   },
   "outputs": [],
   "source": [
    "# The trained '.nemo' model is saved in the location below:\n",
    "! ls -lh {config.exp_manager.explicit_log_dir}/checkpoints\n",
    "print(config.exp_manager.explicit_log_dir)"
   ]
  },
  {
   "cell_type": "markdown",
   "id": "6aab09d4",
   "metadata": {},
   "source": [
    "### Inference\n",
    "The model object from `trainer.fit(model)` is also capable of doing inference. For the tutorial, however, we will re-load the saved `.nemo` lora model along with a `.nemo` base language model to simulate a more realistic scenario (where training does not happen right before inference).\n",
    "\n",
    "Run the cell below to reimport libraries and classes in case you did not run the training cells above."
   ]
  },
  {
   "cell_type": "code",
   "execution_count": null,
   "id": "d860d91b",
   "metadata": {
    "collapsed": false,
    "jupyter": {
     "outputs_hidden": false
    },
    "tags": []
   },
   "outputs": [],
   "source": [
    "# reimport libraries and classes in case one wants to only run cells from the Inference section\n",
    "import wget, os, sys\n",
    "sys.path.insert(0, \"/workspace/nemo/\")  # find the local nemo first before the installed nemo\n",
    "from omegaconf import OmegaConf\n",
    "from nemo.collections.nlp.parts.megatron_trainer_builder import MegatronTrainerBuilder\n",
    "from nemo.collections.nlp.parts.peft_config import LoraPEFTConfig\n",
    "from nemo.collections.nlp.models.language_modeling.megatron_gpt_sft_model import MegatronGPTSFTModel\n",
    "\n",
    "NEMO_DIR = \".\"\n",
    "DATA_DIR = \"data\"\n",
    "CONFIG_DIR = os.path.join(NEMO_DIR, \"conf\")\n",
    "SQUAD_DIR = os.path.join(DATA_DIR, \"SQuAD\")\n"
   ]
  },
  {
   "cell_type": "markdown",
   "id": "4a6474a3",
   "metadata": {},
   "source": [
    "First, we will load and modify the config file that will be used for inference.\n"
   ]
  },
  {
   "cell_type": "code",
   "execution_count": null,
   "id": "41ab98a9",
   "metadata": {
    "tags": []
   },
   "outputs": [],
   "source": [
    "# Load the example config file so we can start editing it\n",
    "CONFIG_EVAL_PATH = os.path.join(CONFIG_DIR, \"megatron_gpt_generate_config.yaml\")\n",
    "config_eval = OmegaConf.load(CONFIG_EVAL_PATH)"
   ]
  },
  {
   "cell_type": "markdown",
   "id": "36c58c18",
   "metadata": {},
   "source": [
    "We are going to modify the `config_eval` object that we created above. We will set the base language model as the `345m` model we downloaded earlier.\n",
    "\n",
    "Additionally, we will also set the `model.peft.restore_from_path` with the lora model we just trained. For the tutorial we will just use the validation data for inference as well."
   ]
  },
  {
   "cell_type": "code",
   "execution_count": null,
   "id": "64a4e71a",
   "metadata": {
    "tags": []
   },
   "outputs": [],
   "source": [
    "config_eval.model.restore_from_path=\"megatron_gpt_345m.nemo\"\n",
    "config_eval.model.peft.restore_from_path=\"./training_info/checkpoints/lora_example_tuning.nemo\"\n",
    "config_eval.model.data.test_ds.file_names=[f\"{SQUAD_DIR}/squad_short_val.jsonl\"]\n",
    "config_eval.model.data.test_ds.names=[\"test_set\"]\n",
    "config_eval.model.data.test_ds.global_batch_size=1\n",
    "config_eval.model.data.test_ds.micro_batch_size=1\n",
    "config_eval.model.data.test_ds.tokens_to_generate=30\n",
    "config_eval.inference.greedy=True"
   ]
  },
  {
   "cell_type": "code",
   "execution_count": null,
   "id": "d8ace8f9",
   "metadata": {
    "tags": []
   },
   "outputs": [],
   "source": [
    "trainer_eval = MegatronTrainerBuilder(config_eval).create_trainer()"
   ]
  },
  {
   "cell_type": "markdown",
   "id": "e745ac5e",
   "metadata": {},
   "source": [
    "The `config_eval` object is the hydra config at \"inference/test time\". This means it should contain information relevant for inference/test time, although some properties that were set at training time are still relevant. For example, whether training was done with `BOS` enabled or not, and other model specific attributes.\n",
    "\n",
    "So we extract the relevant information from the '.nemo' file of the lora model we just trained using the `merge_inference_cfg` function."
   ]
  },
  {
   "cell_type": "code",
   "execution_count": null,
   "id": "e04a2201",
   "metadata": {
    "tags": []
   },
   "outputs": [],
   "source": [
    "eval_model_cfg = MegatronGPTSFTModel.merge_inference_cfg(config_eval.model.peft.restore_from_path, config_eval)"
   ]
  },
  {
   "cell_type": "markdown",
   "id": "d569789c",
   "metadata": {},
   "source": [
    "The cell below is required if you are running the notebook end-to-end, and if you use a different batch size for training and evaluation. In this case, the microbatch calculator needs to be rest. If you are running training only or inference only, feel free to ignore this cell."
   ]
  },
  {
   "cell_type": "code",
   "execution_count": null,
   "id": "b722f6e7",
   "metadata": {
    "collapsed": false,
    "jupyter": {
     "outputs_hidden": false
    },
    "tags": []
   },
   "outputs": [],
   "source": [
    "from apex.transformer.pipeline_parallel.utils import _reconfigure_microbatch_calculator\n",
    "_reconfigure_microbatch_calculator(\n",
    "    rank=0,\n",
    "    rampup_batch_size=None,\n",
    "    global_batch_size=config_eval.model.global_batch_size,\n",
    "    micro_batch_size=config_eval.model.micro_batch_size,\n",
    "    data_parallel_size=1,\n",
    ")"
   ]
  },
  {
   "cell_type": "markdown",
   "id": "132ae378",
   "metadata": {},
   "source": [
    "Then, we load the base language model as well as the lora model we just trained."
   ]
  },
  {
   "cell_type": "code",
   "execution_count": null,
   "id": "b19cd0ce",
   "metadata": {
    "tags": []
   },
   "outputs": [],
   "source": [
    "model_eval = MegatronGPTSFTModel.restore_from(config_eval.model.restore_from_path, eval_model_cfg, trainer=trainer_eval)\n",
    "model_eval.load_adapters(config_eval.model.peft.restore_from_path, LoraPEFTConfig(eval_model_cfg))\n",
    "model_eval.freeze()\n",
    "\n",
    "print(\"Parameter count manually:\\n\", model_eval.summarize())"
   ]
  },
  {
   "cell_type": "markdown",
   "id": "012439d9",
   "metadata": {},
   "source": [
    "Next, we prepare the dataset and the dataloader objects that the model will perform inference on."
   ]
  },
  {
   "cell_type": "code",
   "execution_count": null,
   "id": "12c390f8",
   "metadata": {
    "tags": []
   },
   "outputs": [],
   "source": [
    "_test_ds = model_eval._build_dataset(eval_model_cfg.data.test_ds, is_train=False)\n",
    "from torch.utils.data import DataLoader\n",
    "request_dl = DataLoader(\n",
    "    dataset=_test_ds[0],\n",
    "    batch_size=eval_model_cfg.data.test_ds.global_batch_size,\n",
    "    collate_fn=_test_ds[0].collate_fn,\n",
    ")\n",
    "config_inference = OmegaConf.to_container(config_eval.inference, resolve=True)\n",
    "model_eval.set_inference_config(config_inference)"
   ]
  },
  {
   "cell_type": "markdown",
   "id": "76592a1e",
   "metadata": {},
   "source": [
    "And finally, we call `trainer.predict` which triggers the inference process. The `response` object contains the outputs of the model."
   ]
  },
  {
   "cell_type": "code",
   "execution_count": null,
   "id": "5ba6a70c",
   "metadata": {
    "tags": []
   },
   "outputs": [],
   "source": [
    "response = trainer_eval.predict(model_eval, request_dl)\n",
    "for batch in response:\n",
    "    for s in batch['sentences']:\n",
    "        print(f\"{s}\\n\\n\")"
   ]
  },
  {
   "cell_type": "code",
   "execution_count": null,
   "id": "6c7dfff8-6bfd-458e-a713-b2861243734a",
   "metadata": {},
   "outputs": [],
   "source": []
  }
 ],
 "metadata": {
  "kernelspec": {
   "display_name": "Python 3 (ipykernel)",
   "language": "python",
   "name": "python3"
  },
  "language_info": {
   "codemirror_mode": {
    "name": "ipython",
    "version": 3
   },
   "file_extension": ".py",
   "mimetype": "text/x-python",
   "name": "python",
   "nbconvert_exporter": "python",
   "pygments_lexer": "ipython3",
   "version": "3.10.12"
  }
 },
 "nbformat": 4,
 "nbformat_minor": 5
}
